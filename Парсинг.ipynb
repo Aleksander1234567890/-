{
  "nbformat": 4,
  "nbformat_minor": 0,
  "metadata": {
    "colab": {
      "provenance": []
    },
    "kernelspec": {
      "name": "python3",
      "display_name": "Python 3"
    },
    "language_info": {
      "name": "python"
    }
  },
  "cells": [
    {
      "cell_type": "code",
      "execution_count": null,
      "metadata": {
        "id": "wnsbpkwzRNMs"
      },
      "outputs": [],
      "source": [
        "!pip install fake_useragent\n",
        "from bs4 import BeautifulSoup\n",
        "from bs4.element import Tag\n",
        "import requests\n",
        "import time\n",
        "from fake_useragent import UserAgent\n",
        "import pandas as pd\n",
        "import numpy as np\n",
        "import matplotlib.pyplot as plt\n",
        "import seaborn as sns\n",
        "from sklearn.linear_model import LinearRegression\n",
        "from sklearn.metrics import mean_squared_error\n",
        "from sklearn.model_selection import train_test_split\n",
        "from sklearn import linear_model\n",
        "from sklearn.linear_model import Ridge\n",
        "from sklearn.metrics import r2_score\n",
        "from sklearn.metrics import mean_absolute_error"
      ]
    },
    {
      "cell_type": "markdown",
      "source": [
        "Парсинг устроен в несколько этапов:\n",
        "\n",
        "1. Функция `get_information`, главная цель которой - делать обращение на страницу сайта и собирать оттуда всю информацию. Эта часть выполнена с помощью BeautifulSoup"
      ],
      "metadata": {
        "id": "nDbC1xJRRWKf"
      }
    },
    {
      "cell_type": "code",
      "source": [
        "def get_information(url):\n",
        "  response = requests.get(url, headers={'User-Agent': UserAgent().chrome})\n",
        "  tree = BeautifulSoup(response.content, 'html.parser')\n",
        "  return tree"
      ],
      "metadata": {
        "id": "EEUwm9woRQ4A"
      },
      "execution_count": null,
      "outputs": []
    },
    {
      "cell_type": "markdown",
      "source": [
        "2. Вручную были выписаны те предметы, цены репетиторов на которые мы хотели бы предсказывать. Выбор неслучаен - были отобраны наиболее популярные предметы, где количество доступных для выбора репетиторов было более, чем 95 человек."
      ],
      "metadata": {
        "id": "2ntqGeqgRa-P"
      }
    },
    {
      "cell_type": "code",
      "source": [
        "object_list = {'Русский язык': 'russkij-yazyk',\n",
        "               'Математика': 'matematika-elementarnaya',\n",
        "               'Английский язык': 'anglijskij-yazyk',\n",
        "               'Биология': 'biologiya',\n",
        "               'Обществознание': 'obshchestvoznanie',\n",
        "               'Музыка': 'muzyka',\n",
        "               'География': 'geografiya',\n",
        "               'Информатика': 'informatika',\n",
        "               'Испанский язык': 'ispanskij-yazyk',\n",
        "               'Логопед' : 'logopedy',\n",
        "               'Физика' : 'fizika',\n",
        "               'Химия' : 'himiya',\n",
        "               'Биология' : 'biologiya',\n",
        "               'Экономика' : 'ekonomika'\n",
        "               }"
      ],
      "metadata": {
        "id": "L0KofIb0RfIi"
      },
      "execution_count": null,
      "outputs": []
    },
    {
      "cell_type": "markdown",
      "source": [
        "3. Функция get_href - получение ссылок на страницу преподавателя. Мы проходимся по всем предметам из object_list и для каждого предмета считываем первые 6 страниц с преподавателями, после чего создаем DataFrame all_hrefсодержащий ссылку на личную страницу преподавателя в первом столбце, а во втором - название предмета, по которому он оказывает услуги."
      ],
      "metadata": {
        "id": "chJzNeoyRhVb"
      }
    },
    {
      "cell_type": "code",
      "source": [
        "def get_href():\n",
        "  for key in object_list.keys():\n",
        "    for i in range(1,7):\n",
        "      url = f'https://repetitor.ru/repetitors/{object_list[key]}?page={i}&per-page=15'\n",
        "      tree = get_information(url)\n",
        "      tutors_raw = tree.body.find_all('div', {'class' : 'tutors__main'})\n",
        "      tutors_cards = tutors_raw[0].find_all('li', {'class' : 'tutor-card'})\n",
        "      cur_href = [item.div.a.get('href') for item in tutors_cards]\n",
        "      cur_object = [key for i in range(len(cur_href))]\n",
        "      all_href['href'].extend(cur_href)\n",
        "      all_href['object_name'].extend(cur_object)\n",
        "      time.sleep(0.4)"
      ],
      "metadata": {
        "id": "9tZUnKoyRmpK"
      },
      "execution_count": null,
      "outputs": []
    },
    {
      "cell_type": "code",
      "source": [
        "all_href = {'href' : [], 'object_name' : []}\n",
        "get_href()"
      ],
      "metadata": {
        "id": "ZCQp3GO4RpZl"
      },
      "execution_count": null,
      "outputs": []
    },
    {
      "cell_type": "code",
      "source": [
        "df_href = pd.DataFrame(all_href)"
      ],
      "metadata": {
        "id": "XqV21g5xRrgl"
      },
      "execution_count": null,
      "outputs": []
    },
    {
      "cell_type": "code",
      "source": [
        "print(df_href.shape)\n",
        "df_href"
      ],
      "metadata": {
        "id": "pa_TPLPwRtiP"
      },
      "execution_count": null,
      "outputs": []
    },
    {
      "cell_type": "markdown",
      "source": [
        "4. Ну и вишенка на торте нашего парсинга - функция get_tutor. Эта функция проходится по каждой ссылке из массива all_href, заходя на личную страницу преподавателя, собирая нужную нам информацию."
      ],
      "metadata": {
        "id": "mdlc2TkPR8jr"
      }
    },
    {
      "cell_type": "code",
      "source": [
        "from tqdm import tqdm\n",
        "\n",
        "def get_tutor():\n",
        "  for i in tqdm(range(df_href.shape[0])):\n",
        "    url, object_name =  df_href.iloc[i]\n",
        "    tree = get_information(f'https://repetitor.ru{url}')\n",
        "\n",
        "    #страница! препода\n",
        "    try:\n",
        "      tutor_raw_inf = tree.body.find_all('div', {'class' : 'tutor__wrap'})[0]\n",
        "    except:\n",
        "      print(f'Объебос на странице {url}')\n",
        "      continue\n",
        "\n",
        "    #определяю предмет препода\n",
        "    dict_raw['Предмет'].append(object_name)\n",
        "\n",
        "    #сначала определяю, подтверждена ли личность преподавателя (True - подтверждена; False - нет)\n",
        "    tutor_person_confirmed_raw = tutor_raw_inf.find('div', {'class' : 'tutor-badge-blue'})\n",
        "    if type(tutor_person_confirmed_raw) == Tag:\n",
        "      tutor_person_confirmed = True\n",
        "    else:\n",
        "      tutor_person_confirmed = False\n",
        "    dict_raw['Личность подтверждена'].append(tutor_person_confirmed)\n",
        "\n",
        "    #здесь я определяю стаж и статус\n",
        "    try:\n",
        "      status_staj_raw = tutor_raw_inf.find('p', {'class' : \"tutor-head__meta\"}).text.strip().split('\\n')\n",
        "      dict_raw['Статус'].append(status_staj_raw[0].split(', ')[0])\n",
        "      dict_raw['Стаж'].append(status_staj_raw[-1].split()[0])\n",
        "    except:\n",
        "      dict_raw['Статус'].append(None)\n",
        "      dict_raw['Стаж'].append(None)\n",
        "\n",
        "    #определяю кол-во времени репета на сайте и кол-во заказов в работе\n",
        "    try:\n",
        "      onsite_orders_raw = tutor_raw_inf.find('div', {'class' : \"tutor-head__activity\"}).text.strip().split('/')\n",
        "      onsite = onsite_orders_raw[0].split()[-2:]\n",
        "      if onsite[0] == 'Меньше':\n",
        "        real_onsite = 0\n",
        "      else:\n",
        "        real_onsite = int(onsite[0])/12 if onsite[1] in ['месяца', 'месяцев'] else onsite[0]\n",
        "    except:\n",
        "      real_onsite = None\n",
        "\n",
        "    try:\n",
        "      orders = onsite_orders_raw[1].strip().split()[0]\n",
        "    except:\n",
        "      orders = None\n",
        "\n",
        "    dict_raw['На сайте'].append(real_onsite)\n",
        "    dict_raw['Заказы в работе'].append(orders)\n",
        "\n",
        "    #здесь я определяю оценку\n",
        "    try:\n",
        "      mark = tutor_raw_inf.find('div', {'class' : \"tutor-head__rating-count\"}).text.strip()\n",
        "    except:\n",
        "      mark = None\n",
        "    dict_raw['Оценка'].append(mark)\n",
        "\n",
        "    #здесь я определяю количество отзывов\n",
        "    try:\n",
        "      number_of_review = tutor_raw_inf.find('div', {'class' : \"tutor-head__rating\"}).a.text.strip().split()[0]\n",
        "    except:\n",
        "      number_of_review = None\n",
        "    dict_raw['Количество отзывов'].append(number_of_review)\n",
        "\n",
        "    #здесь я определяю формат занятий - дистанционно али очно\n",
        "    try:\n",
        "      format_of_study = tutor_raw_inf.find('div', {'class' : \"tutor-format__switches tabs__switches\"}).button.text\n",
        "    except:\n",
        "      format_of_study = None\n",
        "    dict_raw['Формат обучения'].append(format_of_study)\n",
        "\n",
        "    #здесь я определяю среднюю цену\n",
        "    try:\n",
        "      prices_raw = tutor_raw_inf.find('div', {'class' : \"tutor-format__prices\"})\n",
        "      prices = prices_raw.find_all('td')[1::2]\n",
        "      price = 0\n",
        "      for price_elem in prices:\n",
        "        price_currency, time_minute = str(price_elem).strip('</td>').split('/')\n",
        "        price_without_currency = price_currency.split()[0]\n",
        "        time_hour = int(time_minute.split()[0])/60\n",
        "        price += float(price_without_currency) * time_hour\n",
        "      price /= len(prices)\n",
        "    except:\n",
        "      price = None\n",
        "    dict_raw['Цена'].append(price)\n",
        "\n",
        "    #образование тьютора\n",
        "    excellence = False\n",
        "    try:\n",
        "      tutor_education = tutor_raw_inf.find('table', {'class' : \"tutor-education__table\"}).span.text.strip()\n",
        "      if 'С отличием' in tutor_education:\n",
        "        excellence = True\n",
        "        tutor_education = tutor_education[:tutor_education.rfind('С отличием')-2]\n",
        "      elif 'с отличием' in tutor_education:\n",
        "        excellence = True\n",
        "        tutor_education = tutor_education[:tutor_education.rfind('с отличием')-2]\n",
        "    except:\n",
        "      tutor_education = None\n",
        "    dict_raw['Образование'].append(tutor_education)\n",
        "\n",
        "    #с отличием ли окончил?\n",
        "    dict_raw['С отличием'].append(excellence)\n",
        "\n",
        "    time.sleep(0.1)"
      ],
      "metadata": {
        "id": "6dyY2M1bR-Um"
      },
      "execution_count": null,
      "outputs": []
    },
    {
      "cell_type": "code",
      "source": [
        "dict_raw = {\n",
        "    'Личность подтверждена' : [],\n",
        "    'Статус' : [],\n",
        "    'Стаж' : [],\n",
        "    'На сайте' : [],\n",
        "    'Заказы в работе' : [],\n",
        "    'Оценка' : [],\n",
        "    'Количество отзывов' : [],\n",
        "    'Формат обучения' : [],\n",
        "    'Образование' : [],\n",
        "    'Предмет' : [],\n",
        "    'Цена' : [],\n",
        "    'С отличием' : []\n",
        "}"
      ],
      "metadata": {
        "id": "sqyj3O2BSB93"
      },
      "execution_count": null,
      "outputs": []
    },
    {
      "cell_type": "code",
      "source": [
        "get_tutor()\n",
        "df_raw = pd.DataFrame(dict_raw)\n",
        "df_raw"
      ],
      "metadata": {
        "id": "ofFbC93WSGCO"
      },
      "execution_count": null,
      "outputs": []
    },
    {
      "cell_type": "markdown",
      "source": [
        "**Информация о полученных данных (по столбцам)**\n",
        "\n",
        "1. Личность подтверждена - бинарный признак со значением `{0,1}`. Данные о том, предоставил ли репетитор свои паспортные данные платформе.\n",
        "\n",
        "2. Статус - категориальный признак, область значения которого следующая: `'Частный преподаватель', 'Школьный преподаватель' 'Преподаватель университета или колледжа', 'Аспирант или ординатор очной формы обучения', 'Студент'`.некоторая текущая \"должность\" преподавателя.\n",
        "\n",
        "3. Стаж - числовой признак, дающий понимание о том, какое количество лет преподаватель обучает своему предмету. Область значения признака - `R+`.\n",
        "\n",
        "4. На сайте - числовой признак, отображающий количество времени, прошедшего с регистрации тьютора на сайте repetitor.ru. Область значения признака - `R+`.\n",
        "\n",
        "5. Заказы в работе - числовой признак, иллюстрирующий какое количество учеников у конкретного преподавателя было на момент парсинга 01.06.2024. Область значения признака - `Z`.\n",
        "\n",
        "6. Оценка - числовой признак, отображающий среднюю оценку по отзывам учеников. Область значения признака - `[0,5]`.\n",
        "\n",
        "7. Количество отзывов - числовой признак, количество оставленных учениками отзывов о преподавателе. Область значения признака - `Z`.\n",
        "\n",
        "8. Формат обучения - категорильный признак, предлогаемый репетитором формат занятий, область значения - `{Дистанционно, У ученика, У преподавателя}`.\n",
        "\n",
        "9. Образование - категориальный признак, ВУЗ - который закончил преподаватель. Область значения - название ВУЗов России и мира.\n",
        "\n",
        "10. Предмет - категориальный признак, предмет, который преподает тьютор. Область значений - ключи словаря `object_list` со 2 шага парсинга\n",
        "\n",
        "11. Цена - таргет, который мы собираемся предсказывать. Область значения - `R+`\n",
        "\n",
        "12. С отличием - бинарный признак, отображающий, был ли закончен ВУЗ преподавателем с отличием или нет."
      ],
      "metadata": {
        "id": "BoDNsAPxSL86"
      }
    },
    {
      "cell_type": "code",
      "source": [
        "# все запаршенные данные записываю в файл\n",
        "df_raw.to_csv('parsing.csv', encoding='utf-8')"
      ],
      "metadata": {
        "id": "sXsMCR3sSMpw"
      },
      "execution_count": null,
      "outputs": []
    }
  ]
}