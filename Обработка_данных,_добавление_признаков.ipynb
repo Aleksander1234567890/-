{
  "nbformat": 4,
  "nbformat_minor": 0,
  "metadata": {
    "colab": {
      "provenance": []
    },
    "kernelspec": {
      "name": "python3",
      "display_name": "Python 3"
    },
    "language_info": {
      "name": "python"
    }
  },
  "cells": [
    {
      "cell_type": "code",
      "source": [
        "!pip install fake_useragent\n",
        "from bs4 import BeautifulSoup\n",
        "from bs4.element import Tag\n",
        "import requests\n",
        "import time\n",
        "from fake_useragent import UserAgent\n",
        "import pandas as pd\n",
        "import numpy as np\n",
        "import matplotlib.pyplot as plt\n",
        "import seaborn as sns\n",
        "from sklearn.linear_model import LinearRegression\n",
        "from sklearn.metrics import mean_squared_error\n",
        "from sklearn.model_selection import train_test_split\n",
        "from sklearn import linear_model\n",
        "from sklearn.linear_model import Ridge\n",
        "from sklearn.metrics import r2_score\n",
        "from sklearn.metrics import mean_absolute_error"
      ],
      "metadata": {
        "colab": {
          "base_uri": "https://localhost:8080/"
        },
        "id": "q-Zyp7F_VAkb",
        "outputId": "ccfb1ce1-5760-4e5d-90b3-79a0db26f165"
      },
      "execution_count": 1,
      "outputs": [
        {
          "output_type": "stream",
          "name": "stdout",
          "text": [
            "Collecting fake_useragent\n",
            "  Downloading fake_useragent-1.5.1-py3-none-any.whl (17 kB)\n",
            "Installing collected packages: fake_useragent\n",
            "Successfully installed fake_useragent-1.5.1\n"
          ]
        }
      ]
    },
    {
      "cell_type": "code",
      "execution_count": 4,
      "metadata": {
        "colab": {
          "base_uri": "https://localhost:8080/",
          "height": 162
        },
        "id": "Lwm2zTwDUwZP",
        "outputId": "31772121-07bc-4839-b3bc-71c5d5b7de18"
      },
      "outputs": [
        {
          "output_type": "execute_result",
          "data": {
            "text/plain": [
              "   Личность подтверждена                  Статус Стаж  На сайте  \\\n",
              "0                  False   Частный преподаватель    7       6.0   \n",
              "1                   True  Школьный преподаватель   38       6.0   \n",
              "\n",
              "   Заказы в работе  Оценка  Количество отзывов Формат обучения  \\\n",
              "0            107.0    5.00                51.0    Дистанционно   \n",
              "1            139.0    4.89                41.0    Дистанционно   \n",
              "\n",
              "                                         Образование       Предмет    Цена  \\\n",
              "0                            МГУ им. М.В. Ломоносова  Русский язык  2112.5   \n",
              "1  Волгоградский государственный педагогический  ...  Русский язык  1000.0   \n",
              "\n",
              "   С отличием  \n",
              "0       False  \n",
              "1       False  "
            ],
            "text/html": [
              "\n",
              "  <div id=\"df-6c56863e-6835-403e-96ee-6aeacf7f70a1\" class=\"colab-df-container\">\n",
              "    <div>\n",
              "<style scoped>\n",
              "    .dataframe tbody tr th:only-of-type {\n",
              "        vertical-align: middle;\n",
              "    }\n",
              "\n",
              "    .dataframe tbody tr th {\n",
              "        vertical-align: top;\n",
              "    }\n",
              "\n",
              "    .dataframe thead th {\n",
              "        text-align: right;\n",
              "    }\n",
              "</style>\n",
              "<table border=\"1\" class=\"dataframe\">\n",
              "  <thead>\n",
              "    <tr style=\"text-align: right;\">\n",
              "      <th></th>\n",
              "      <th>Личность подтверждена</th>\n",
              "      <th>Статус</th>\n",
              "      <th>Стаж</th>\n",
              "      <th>На сайте</th>\n",
              "      <th>Заказы в работе</th>\n",
              "      <th>Оценка</th>\n",
              "      <th>Количество отзывов</th>\n",
              "      <th>Формат обучения</th>\n",
              "      <th>Образование</th>\n",
              "      <th>Предмет</th>\n",
              "      <th>Цена</th>\n",
              "      <th>С отличием</th>\n",
              "    </tr>\n",
              "  </thead>\n",
              "  <tbody>\n",
              "    <tr>\n",
              "      <th>0</th>\n",
              "      <td>False</td>\n",
              "      <td>Частный преподаватель</td>\n",
              "      <td>7</td>\n",
              "      <td>6.0</td>\n",
              "      <td>107.0</td>\n",
              "      <td>5.00</td>\n",
              "      <td>51.0</td>\n",
              "      <td>Дистанционно</td>\n",
              "      <td>МГУ им. М.В. Ломоносова</td>\n",
              "      <td>Русский язык</td>\n",
              "      <td>2112.5</td>\n",
              "      <td>False</td>\n",
              "    </tr>\n",
              "    <tr>\n",
              "      <th>1</th>\n",
              "      <td>True</td>\n",
              "      <td>Школьный преподаватель</td>\n",
              "      <td>38</td>\n",
              "      <td>6.0</td>\n",
              "      <td>139.0</td>\n",
              "      <td>4.89</td>\n",
              "      <td>41.0</td>\n",
              "      <td>Дистанционно</td>\n",
              "      <td>Волгоградский государственный педагогический  ...</td>\n",
              "      <td>Русский язык</td>\n",
              "      <td>1000.0</td>\n",
              "      <td>False</td>\n",
              "    </tr>\n",
              "  </tbody>\n",
              "</table>\n",
              "</div>\n",
              "    <div class=\"colab-df-buttons\">\n",
              "\n",
              "  <div class=\"colab-df-container\">\n",
              "    <button class=\"colab-df-convert\" onclick=\"convertToInteractive('df-6c56863e-6835-403e-96ee-6aeacf7f70a1')\"\n",
              "            title=\"Convert this dataframe to an interactive table.\"\n",
              "            style=\"display:none;\">\n",
              "\n",
              "  <svg xmlns=\"http://www.w3.org/2000/svg\" height=\"24px\" viewBox=\"0 -960 960 960\">\n",
              "    <path d=\"M120-120v-720h720v720H120Zm60-500h600v-160H180v160Zm220 220h160v-160H400v160Zm0 220h160v-160H400v160ZM180-400h160v-160H180v160Zm440 0h160v-160H620v160ZM180-180h160v-160H180v160Zm440 0h160v-160H620v160Z\"/>\n",
              "  </svg>\n",
              "    </button>\n",
              "\n",
              "  <style>\n",
              "    .colab-df-container {\n",
              "      display:flex;\n",
              "      gap: 12px;\n",
              "    }\n",
              "\n",
              "    .colab-df-convert {\n",
              "      background-color: #E8F0FE;\n",
              "      border: none;\n",
              "      border-radius: 50%;\n",
              "      cursor: pointer;\n",
              "      display: none;\n",
              "      fill: #1967D2;\n",
              "      height: 32px;\n",
              "      padding: 0 0 0 0;\n",
              "      width: 32px;\n",
              "    }\n",
              "\n",
              "    .colab-df-convert:hover {\n",
              "      background-color: #E2EBFA;\n",
              "      box-shadow: 0px 1px 2px rgba(60, 64, 67, 0.3), 0px 1px 3px 1px rgba(60, 64, 67, 0.15);\n",
              "      fill: #174EA6;\n",
              "    }\n",
              "\n",
              "    .colab-df-buttons div {\n",
              "      margin-bottom: 4px;\n",
              "    }\n",
              "\n",
              "    [theme=dark] .colab-df-convert {\n",
              "      background-color: #3B4455;\n",
              "      fill: #D2E3FC;\n",
              "    }\n",
              "\n",
              "    [theme=dark] .colab-df-convert:hover {\n",
              "      background-color: #434B5C;\n",
              "      box-shadow: 0px 1px 3px 1px rgba(0, 0, 0, 0.15);\n",
              "      filter: drop-shadow(0px 1px 2px rgba(0, 0, 0, 0.3));\n",
              "      fill: #FFFFFF;\n",
              "    }\n",
              "  </style>\n",
              "\n",
              "    <script>\n",
              "      const buttonEl =\n",
              "        document.querySelector('#df-6c56863e-6835-403e-96ee-6aeacf7f70a1 button.colab-df-convert');\n",
              "      buttonEl.style.display =\n",
              "        google.colab.kernel.accessAllowed ? 'block' : 'none';\n",
              "\n",
              "      async function convertToInteractive(key) {\n",
              "        const element = document.querySelector('#df-6c56863e-6835-403e-96ee-6aeacf7f70a1');\n",
              "        const dataTable =\n",
              "          await google.colab.kernel.invokeFunction('convertToInteractive',\n",
              "                                                    [key], {});\n",
              "        if (!dataTable) return;\n",
              "\n",
              "        const docLinkHtml = 'Like what you see? Visit the ' +\n",
              "          '<a target=\"_blank\" href=https://colab.research.google.com/notebooks/data_table.ipynb>data table notebook</a>'\n",
              "          + ' to learn more about interactive tables.';\n",
              "        element.innerHTML = '';\n",
              "        dataTable['output_type'] = 'display_data';\n",
              "        await google.colab.output.renderOutput(dataTable, element);\n",
              "        const docLink = document.createElement('div');\n",
              "        docLink.innerHTML = docLinkHtml;\n",
              "        element.appendChild(docLink);\n",
              "      }\n",
              "    </script>\n",
              "  </div>\n",
              "\n",
              "\n",
              "<div id=\"df-a1a1f686-e0d6-47f8-b02e-99d4115fa730\">\n",
              "  <button class=\"colab-df-quickchart\" onclick=\"quickchart('df-a1a1f686-e0d6-47f8-b02e-99d4115fa730')\"\n",
              "            title=\"Suggest charts\"\n",
              "            style=\"display:none;\">\n",
              "\n",
              "<svg xmlns=\"http://www.w3.org/2000/svg\" height=\"24px\"viewBox=\"0 0 24 24\"\n",
              "     width=\"24px\">\n",
              "    <g>\n",
              "        <path d=\"M19 3H5c-1.1 0-2 .9-2 2v14c0 1.1.9 2 2 2h14c1.1 0 2-.9 2-2V5c0-1.1-.9-2-2-2zM9 17H7v-7h2v7zm4 0h-2V7h2v10zm4 0h-2v-4h2v4z\"/>\n",
              "    </g>\n",
              "</svg>\n",
              "  </button>\n",
              "\n",
              "<style>\n",
              "  .colab-df-quickchart {\n",
              "      --bg-color: #E8F0FE;\n",
              "      --fill-color: #1967D2;\n",
              "      --hover-bg-color: #E2EBFA;\n",
              "      --hover-fill-color: #174EA6;\n",
              "      --disabled-fill-color: #AAA;\n",
              "      --disabled-bg-color: #DDD;\n",
              "  }\n",
              "\n",
              "  [theme=dark] .colab-df-quickchart {\n",
              "      --bg-color: #3B4455;\n",
              "      --fill-color: #D2E3FC;\n",
              "      --hover-bg-color: #434B5C;\n",
              "      --hover-fill-color: #FFFFFF;\n",
              "      --disabled-bg-color: #3B4455;\n",
              "      --disabled-fill-color: #666;\n",
              "  }\n",
              "\n",
              "  .colab-df-quickchart {\n",
              "    background-color: var(--bg-color);\n",
              "    border: none;\n",
              "    border-radius: 50%;\n",
              "    cursor: pointer;\n",
              "    display: none;\n",
              "    fill: var(--fill-color);\n",
              "    height: 32px;\n",
              "    padding: 0;\n",
              "    width: 32px;\n",
              "  }\n",
              "\n",
              "  .colab-df-quickchart:hover {\n",
              "    background-color: var(--hover-bg-color);\n",
              "    box-shadow: 0 1px 2px rgba(60, 64, 67, 0.3), 0 1px 3px 1px rgba(60, 64, 67, 0.15);\n",
              "    fill: var(--button-hover-fill-color);\n",
              "  }\n",
              "\n",
              "  .colab-df-quickchart-complete:disabled,\n",
              "  .colab-df-quickchart-complete:disabled:hover {\n",
              "    background-color: var(--disabled-bg-color);\n",
              "    fill: var(--disabled-fill-color);\n",
              "    box-shadow: none;\n",
              "  }\n",
              "\n",
              "  .colab-df-spinner {\n",
              "    border: 2px solid var(--fill-color);\n",
              "    border-color: transparent;\n",
              "    border-bottom-color: var(--fill-color);\n",
              "    animation:\n",
              "      spin 1s steps(1) infinite;\n",
              "  }\n",
              "\n",
              "  @keyframes spin {\n",
              "    0% {\n",
              "      border-color: transparent;\n",
              "      border-bottom-color: var(--fill-color);\n",
              "      border-left-color: var(--fill-color);\n",
              "    }\n",
              "    20% {\n",
              "      border-color: transparent;\n",
              "      border-left-color: var(--fill-color);\n",
              "      border-top-color: var(--fill-color);\n",
              "    }\n",
              "    30% {\n",
              "      border-color: transparent;\n",
              "      border-left-color: var(--fill-color);\n",
              "      border-top-color: var(--fill-color);\n",
              "      border-right-color: var(--fill-color);\n",
              "    }\n",
              "    40% {\n",
              "      border-color: transparent;\n",
              "      border-right-color: var(--fill-color);\n",
              "      border-top-color: var(--fill-color);\n",
              "    }\n",
              "    60% {\n",
              "      border-color: transparent;\n",
              "      border-right-color: var(--fill-color);\n",
              "    }\n",
              "    80% {\n",
              "      border-color: transparent;\n",
              "      border-right-color: var(--fill-color);\n",
              "      border-bottom-color: var(--fill-color);\n",
              "    }\n",
              "    90% {\n",
              "      border-color: transparent;\n",
              "      border-bottom-color: var(--fill-color);\n",
              "    }\n",
              "  }\n",
              "</style>\n",
              "\n",
              "  <script>\n",
              "    async function quickchart(key) {\n",
              "      const quickchartButtonEl =\n",
              "        document.querySelector('#' + key + ' button');\n",
              "      quickchartButtonEl.disabled = true;  // To prevent multiple clicks.\n",
              "      quickchartButtonEl.classList.add('colab-df-spinner');\n",
              "      try {\n",
              "        const charts = await google.colab.kernel.invokeFunction(\n",
              "            'suggestCharts', [key], {});\n",
              "      } catch (error) {\n",
              "        console.error('Error during call to suggestCharts:', error);\n",
              "      }\n",
              "      quickchartButtonEl.classList.remove('colab-df-spinner');\n",
              "      quickchartButtonEl.classList.add('colab-df-quickchart-complete');\n",
              "    }\n",
              "    (() => {\n",
              "      let quickchartButtonEl =\n",
              "        document.querySelector('#df-a1a1f686-e0d6-47f8-b02e-99d4115fa730 button');\n",
              "      quickchartButtonEl.style.display =\n",
              "        google.colab.kernel.accessAllowed ? 'block' : 'none';\n",
              "    })();\n",
              "  </script>\n",
              "</div>\n",
              "    </div>\n",
              "  </div>\n"
            ],
            "application/vnd.google.colaboratory.intrinsic+json": {
              "type": "dataframe",
              "variable_name": "df_raw",
              "summary": "{\n  \"name\": \"df_raw\",\n  \"rows\": 1168,\n  \"fields\": [\n    {\n      \"column\": \"\\u041b\\u0438\\u0447\\u043d\\u043e\\u0441\\u0442\\u044c \\u043f\\u043e\\u0434\\u0442\\u0432\\u0435\\u0440\\u0436\\u0434\\u0435\\u043d\\u0430\",\n      \"properties\": {\n        \"dtype\": \"boolean\",\n        \"num_unique_values\": 2,\n        \"samples\": [\n          true,\n          false\n        ],\n        \"semantic_type\": \"\",\n        \"description\": \"\"\n      }\n    },\n    {\n      \"column\": \"\\u0421\\u0442\\u0430\\u0442\\u0443\\u0441\",\n      \"properties\": {\n        \"dtype\": \"category\",\n        \"num_unique_values\": 5,\n        \"samples\": [\n          \"\\u0428\\u043a\\u043e\\u043b\\u044c\\u043d\\u044b\\u0439 \\u043f\\u0440\\u0435\\u043f\\u043e\\u0434\\u0430\\u0432\\u0430\\u0442\\u0435\\u043b\\u044c\",\n          \"\\u0421\\u0442\\u0443\\u0434\\u0435\\u043d\\u0442\"\n        ],\n        \"semantic_type\": \"\",\n        \"description\": \"\"\n      }\n    },\n    {\n      \"column\": \"\\u0421\\u0442\\u0430\\u0436\",\n      \"properties\": {\n        \"dtype\": \"category\",\n        \"num_unique_values\": 53,\n        \"samples\": [\n          \"10\",\n          \"40\"\n        ],\n        \"semantic_type\": \"\",\n        \"description\": \"\"\n      }\n    },\n    {\n      \"column\": \"\\u041d\\u0430 \\u0441\\u0430\\u0439\\u0442\\u0435\",\n      \"properties\": {\n        \"dtype\": \"number\",\n        \"std\": 1.8655128560391616,\n        \"min\": 0.0,\n        \"max\": 7.0,\n        \"num_unique_values\": 18,\n        \"samples\": [\n          6.0,\n          5.0\n        ],\n        \"semantic_type\": \"\",\n        \"description\": \"\"\n      }\n    },\n    {\n      \"column\": \"\\u0417\\u0430\\u043a\\u0430\\u0437\\u044b \\u0432 \\u0440\\u0430\\u0431\\u043e\\u0442\\u0435\",\n      \"properties\": {\n        \"dtype\": \"number\",\n        \"std\": 26.71215769821038,\n        \"min\": 1.0,\n        \"max\": 226.0,\n        \"num_unique_values\": 78,\n        \"samples\": [\n          1.0,\n          107.0\n        ],\n        \"semantic_type\": \"\",\n        \"description\": \"\"\n      }\n    },\n    {\n      \"column\": \"\\u041e\\u0446\\u0435\\u043d\\u043a\\u0430\",\n      \"properties\": {\n        \"dtype\": \"number\",\n        \"std\": 0.23873140728346956,\n        \"min\": 1.0,\n        \"max\": 5.0,\n        \"num_unique_values\": 28,\n        \"samples\": [\n          4.6,\n          4.69\n        ],\n        \"semantic_type\": \"\",\n        \"description\": \"\"\n      }\n    },\n    {\n      \"column\": \"\\u041a\\u043e\\u043b\\u0438\\u0447\\u0435\\u0441\\u0442\\u0432\\u043e \\u043e\\u0442\\u0437\\u044b\\u0432\\u043e\\u0432\",\n      \"properties\": {\n        \"dtype\": \"number\",\n        \"std\": 9.532716677696275,\n        \"min\": 1.0,\n        \"max\": 79.0,\n        \"num_unique_values\": 43,\n        \"samples\": [\n          31.0,\n          45.0\n        ],\n        \"semantic_type\": \"\",\n        \"description\": \"\"\n      }\n    },\n    {\n      \"column\": \"\\u0424\\u043e\\u0440\\u043c\\u0430\\u0442 \\u043e\\u0431\\u0443\\u0447\\u0435\\u043d\\u0438\\u044f\",\n      \"properties\": {\n        \"dtype\": \"category\",\n        \"num_unique_values\": 3,\n        \"samples\": [\n          \"\\u0414\\u0438\\u0441\\u0442\\u0430\\u043d\\u0446\\u0438\\u043e\\u043d\\u043d\\u043e\",\n          \"\\u0423 \\u0440\\u0435\\u043f\\u0435\\u0442\\u0438\\u0442\\u043e\\u0440\\u0430\"\n        ],\n        \"semantic_type\": \"\",\n        \"description\": \"\"\n      }\n    },\n    {\n      \"column\": \"\\u041e\\u0431\\u0440\\u0430\\u0437\\u043e\\u0432\\u0430\\u043d\\u0438\\u0435\",\n      \"properties\": {\n        \"dtype\": \"string\",\n        \"num_unique_values\": 796,\n        \"samples\": [\n          \"\\u041f\\u0413\\u0423 \\u0438\\u043c. \\u0422.\\u0413.\\u0428\\u0435\\u0432\\u0447\\u0435\\u043d\\u043a\\u043e\",\n          \"\\u041a\\u0440\\u0430\\u0441\\u043d\\u043e\\u044f\\u0440\\u0441\\u043a\\u0438\\u0439 \\u0433\\u043e\\u0441\\u0443\\u0434\\u0430\\u0440\\u0441\\u0442\\u0432\\u0435\\u043d\\u043d\\u044b\\u0439 \\u0442\\u043e\\u0440\\u0433\\u043e\\u0432\\u043e-\\u044d\\u043a\\u043e\\u043d\\u043e\\u043c\\u0438\\u0447\\u0435\\u0441\\u043a\\u0438\\u0439 \\u0438\\u043d\\u0441\\u0442\\u0438\\u0442\\u0443\\u0442\"\n        ],\n        \"semantic_type\": \"\",\n        \"description\": \"\"\n      }\n    },\n    {\n      \"column\": \"\\u041f\\u0440\\u0435\\u0434\\u043c\\u0435\\u0442\",\n      \"properties\": {\n        \"dtype\": \"category\",\n        \"num_unique_values\": 13,\n        \"samples\": [\n          \"\\u0425\\u0438\\u043c\\u0438\\u044f\",\n          \"\\u041b\\u043e\\u0433\\u043e\\u043f\\u0435\\u0434\"\n        ],\n        \"semantic_type\": \"\",\n        \"description\": \"\"\n      }\n    },\n    {\n      \"column\": \"\\u0426\\u0435\\u043d\\u0430\",\n      \"properties\": {\n        \"dtype\": \"number\",\n        \"std\": 1537.730686801754,\n        \"min\": 225.0,\n        \"max\": 14000.0,\n        \"num_unique_values\": 355,\n        \"samples\": [\n          808.3333333333334,\n          500.0\n        ],\n        \"semantic_type\": \"\",\n        \"description\": \"\"\n      }\n    },\n    {\n      \"column\": \"\\u0421 \\u043e\\u0442\\u043b\\u0438\\u0447\\u0438\\u0435\\u043c\",\n      \"properties\": {\n        \"dtype\": \"boolean\",\n        \"num_unique_values\": 2,\n        \"samples\": [\n          true,\n          false\n        ],\n        \"semantic_type\": \"\",\n        \"description\": \"\"\n      }\n    }\n  ]\n}"
            }
          },
          "metadata": {},
          "execution_count": 4
        }
      ],
      "source": [
        "# скачиваю данные в DataFrame из файла\n",
        "df_raw = pd.read_csv('parsing data.csv')\n",
        "df_raw.drop(columns = ['Unnamed: 0'], inplace = True)\n",
        "df_raw.head(2)"
      ]
    },
    {
      "cell_type": "markdown",
      "source": [
        "Заполненяем пропуски:\n",
        "1. Наны в признаках: `На сайте, Заказы в работе, количество отзывов` заполняем нулями\n",
        "2. Оценку для преподавателей, у которой ее нет по каким-то причинам, заполняем средним значением\n",
        "3. Для преподавателей, не указавших статус или формат обучения выбираем наиболее часто встречавшееся значение среди других тьюторов.\n",
        "4. Пару анкет было без цены - мы их удалили"
      ],
      "metadata": {
        "id": "MVd5oYJVVL8p"
      }
    },
    {
      "cell_type": "code",
      "source": [
        "# Заполнение пропусков в столбце 'на сайте' значением 0\n",
        "df_raw['На сайте'] = df_raw['На сайте'].fillna(0)\n",
        "\n",
        "# Заполнение пропусков в столбце 'Заказы в работе' значением 0\n",
        "df_raw['Заказы в работе'] = df_raw['Заказы в работе'].fillna(0)\n",
        "\n",
        "# Заполнение пропусков в столбце 'Количество отзывов' значением 0\n",
        "df_raw['Количество отзывов'] = df_raw['Количество отзывов'].fillna(0)\n",
        "\n",
        "# Заполнение пропусков в столбце 'Оценка' средним значением\n",
        "mean_mark = df_raw['Оценка'].astype(float).mean()\n",
        "df_raw['Оценка'] = df_raw['Оценка'].fillna(mean_mark)\n",
        "\n",
        "# Заполнение пропусков в столбце 'Статус' самым популярным значением\n",
        "most_common_stat = df_raw['Статус'].mode()\n",
        "df_raw['Статус'] = df_raw['Статус'].fillna(most_common_stat)\n",
        "\n",
        "# Заполнение пропусков в столбце 'Формат обучения' самым популярным значением\n",
        "most_common_format = df_raw['Формат обучения'].mode()\n",
        "df_raw['Формат обучения'] = df_raw['Формат обучения'].fillna(most_common_format)\n",
        "\n",
        "# удаляем анкету без цены\n",
        "df_raw = df_raw[df_raw['Цена'].notna()]"
      ],
      "metadata": {
        "id": "Pj_ceTV-VNJc"
      },
      "execution_count": 5,
      "outputs": []
    },
    {
      "cell_type": "code",
      "source": [
        "df_raw.isna().sum()"
      ],
      "metadata": {
        "colab": {
          "base_uri": "https://localhost:8080/"
        },
        "id": "KW8S8F8LVpwA",
        "outputId": "1bba92d3-2c8d-40e8-f7cc-80ea15022fc3"
      },
      "execution_count": 9,
      "outputs": [
        {
          "output_type": "execute_result",
          "data": {
            "text/plain": [
              "Личность подтверждена     0\n",
              "Статус                    0\n",
              "Стаж                      0\n",
              "На сайте                  0\n",
              "Заказы в работе           0\n",
              "Оценка                    0\n",
              "Количество отзывов        0\n",
              "Формат обучения           0\n",
              "Образование              19\n",
              "Предмет                   0\n",
              "Цена                      0\n",
              "С отличием                0\n",
              "dtype: int64"
            ]
          },
          "metadata": {},
          "execution_count": 9
        }
      ]
    },
    {
      "cell_type": "markdown",
      "source": [
        "Это нормально, что в образовании есть немного нанов, далее мы удалим этот признак, остатив другие характеристики, полученные на основе информации о вузе (признаки \"топ-10\" и \"топ-20\" вуз)."
      ],
      "metadata": {
        "id": "bByZ9qf6Wxbo"
      }
    },
    {
      "cell_type": "markdown",
      "source": [
        "Начнем как раз с ВУЗа - OHE для текущих данных лучше не делать, поэтому создадим списки из топ-10 и топ-20 вузов и добавим соответсвтующий признак (1 - если входит, 0 - если не входит)"
      ],
      "metadata": {
        "id": "aaows2YjZgOT"
      }
    },
    {
      "cell_type": "code",
      "source": [
        "# проверяем, заканчивал ли преподаватель вуз из Топ-10 или Топ-20 вуз\n",
        "top_ten = ['Национальный исследовательский Томский политехнический университет', 'МГУ им. М. В. Ломоносова', 'ФГАОУ ВО НИ ТПУ', 'ТПУ', 'Томский политехнический университет', 'Московский физико-технический институт (МФТИ)', 'Московский физико-технический институт (национальный исследовательский университет)', 'МФТИ (национальный исследовательский университет)', 'Национальный исследовательский университет \"Московский физико-технический институт\"', 'НИУ МФТИ', 'МФТИ', 'Московский физико-технический институт', 'Московский физико-технический институт (МФТИ)', 'Национальный исследовательский университет Московский физико-технический институт', 'НИУ Московский физико-технический институт', 'Московский Государственный Университет им. М.В.Ломоносова', 'МГУ им. М.В. Ломоносова', 'Московский государственный университет имени М.В. Ломоносова', 'МГУ', 'МГУ имени М.В.Ломоносова', 'МГУ имени М.В. Ломоносова', 'Московский Государственный Университет им. М.В. Ломоносова', 'Московский государственный университет имени М.В.Ломоносова', 'Санкт-Петербургский государственный университет', 'СПбГУ', 'Санкт-Петербургский университет', 'СПбУ', 'Национальный исследовательский ядерный университет «МИФИ»', 'НИЯУ МИФИ', 'МИФИ', 'Национальный исследовательский ядерный университет Московский инженерно-физический институт', 'НИЯУ Московский инженерно-физический институт', 'Московский инженерно-физический институт', 'Московский государственный технический университет имени Н.Э. Баумана', 'Московский государственный технический университет им. Н.Э. Баумана', 'Московский государственный технический университет имени Н.Э.Баумана', 'Московский государственный технический университет им. Н.Э.Баумана' , 'МГТУ им. Н.Э. Баумана', 'МГТУ им. Н.Э.Баумана', 'МГТУ имени Н.Э. Баумана', 'МГТУ имени Н.Э.Баумана', 'МГТУ', 'Национальный исследовательский университет \"Высшая школа экономики\"', 'НИУ ВШЭ', 'Высшая школа экономики', 'Национальный исследовательский университет ВШЭ', 'Национальный исследовательский университет «Высшая школа экономики» (НИУ ВШЭ)', 'НИУ Высшая школа экономики', 'ВШЭ', 'Московский Государственный Институт Международных Отношений', 'МГИМО', 'МГИМО МИД России', 'Московский государственный институт международных отношений МИД Российской Федерации', 'Московский государственный институт международных отношений МИД РФ', 'Московский государственный институт международных отношений МИД России', 'МГИМО МИД Российской Федерации', 'МГИМО МИД РФ', 'Санкт-Петербургский политехнический университет Петра Великого', 'ФГАОУ ВО СПбПУ', 'СПбПУ', 'ФГАОУ ВО «СПбПУ»', 'Политех', 'Санкт-Петербургский политехнический университет Петра Великого', 'Уральский федеральный университет имени первого Президента России Б.Н. Ельцина', 'Уральский федеральный университет им. первого Президента России Б.Н. Ельцина', 'Уральский федеральный университет имени первого Президента России Б.Н.Ельцина', 'Уральский федеральный университет им. первого Президента России Б.Н.Ельцина', 'Уральский федеральный университет имени Б.Н. Ельцина', 'Уральский федеральный университет им. Б.Н.Ельцина', 'ФГАОУ ВО «УрФУ имени первого Президента России Б.Н. Ельцина»', 'Уральский федеральный университет', 'УрФУ', 'МФТИ, Московский Физико-Технический Институт (государственный исследовательский университет)', 'НИЯУ МИФИ', 'Ленинградский государственный университет (СПбГУ)', 'Национальный исследовательский университет «Высшая школа экономики»', 'УРФУ', 'Московский Государственный Университет имени М. В. Ломоносова', 'МГУ им. М.В. Ломоносова', 'МГУ им.М.В.Ломоносова', 'МГУ имени Ломоносова']\n",
        "df_raw['Топ-10 вуз'] = df_raw['Образование'].isin (top_ten).astype(int)\n",
        "top_twenty = ['Национальный исследовательский технологический университет \"МИСИС\"', 'Новосибирский национальный исследовательский государственный университет', 'НГУ', 'Новосибирский государственный университет', 'Финансовый университет при Правительстве РФ', 'Финансовый университет при Правительстве', 'Финансовый университет', 'Финансовый университет при Правительстве России', 'Финансовый университет при Правительстве Российской Федерации', 'Российская академия народного хозяйства и государственной службы при Президенте РФ', 'Российская академия народного хозяйства и государственной службы при Президенте', 'Российская академия народного хозяйства и государственной службы при Президенте России', 'Российская академия народного хозяйства и государственной службы при Президенте Российской Федерации', 'РАНХиГС', 'РАНХИГС', 'Санкт-Петербургский национальный исследовательский университет информационных технологий, механики и оптики', 'Национальный исследовательский университет ИТМО', 'НИУ ИТМО', 'НИУ информационных технологий, механики и оптики', 'Плехановский университет', 'Российский экономический университет имени Г.В. Плеханова', 'Российский экономический университет им. Г.В. Плеханова', 'Российский экономический университет имени Г.В.Плеханова', 'Российский экономический университет им. Г.В.Плеханова', 'РЭУ имени Г.В. Плеханова', 'РЭУ им. Г.В. Плеханова', 'Первый Московский государственный медицинский университет имени И.М. Сеченова Минздрава России', 'Первый Московский государственный медицинский университет имени И.М. Сеченова', 'Первый Московский государственный медицинский университет имени И.М. Сеченова Минздрава РФ', 'Первый Московский государственный медицинский университет им. И.М. Сеченова Минздрава России', 'Первый Московский государственный медицинский университет им. И.М. Сеченова', 'Первый Московский государственный медицинский университет им. И.М. Сеченова Минздрава РФ', 'Первый МГМУ им. И. М. Сеченова', 'Первый МГМУ им. И.М. Сеченова Минздрава России', 'МГМУ им. И.М. Сеченова Минздрава России', 'МГМУ им. И. М. Сеченова', 'ФГАОУ ВО Первый МГМУ им. И.М. Сеченова Минздрава России (Сеченовский Университет)', 'ФГАОУ ВО Первый МГМУ им. И.М. Сеченова Минздрава России', 'Сеченовский Университет', 'Университет науки и технологий МИСИС', 'Университет науки и технологий «МИСиС»', 'Национальный исследовательский технологический университет «МИСиС»', 'МИСиС', 'МИСИС', 'НИТУ МИСиС', 'НИТУ «МИСиС»', 'Национальный исследовательский Томский государственный университет', 'ТГУ', 'Томский государственный университет', 'НИ ТГУ', 'Российский университет дружбы народов', 'Российский университет дружбы народов (РУДН)', 'Российский университет дружбы народов имени Патриса Лумумбы', 'Российский университет дружбы народов им. Патриса Лумумбы', 'РУДН', 'Казанский (Приволжский) федеральный университет', 'ФФГАОУВО КФУ', 'ФФГАОУВО \"КФУ\"', 'КФУ', 'Казанский федеральный университет', 'Приволжский федеральный университет', 'Казанский университет']\n",
        "df_raw['Топ-20 вуз'] = df_raw['Образование'].isin (top_twenty).astype(int)\n",
        "df_raw.drop(columns='Образование', inplace=True)"
      ],
      "metadata": {
        "id": "KhGez1nZZELi"
      },
      "execution_count": 11,
      "outputs": []
    },
    {
      "cell_type": "code",
      "source": [
        "plt.figure(figsize=(13,5))\n",
        "sns.boxplot(x='Топ-10 вуз',y='Цена',data = df_raw)\n",
        "plt.title('Ящик с усами для цены в зависимости от топ-10 вузов')"
      ],
      "metadata": {
        "colab": {
          "base_uri": "https://localhost:8080/",
          "height": 504
        },
        "id": "6GdI8GbFaINK",
        "outputId": "b272a748-aab5-403e-b37b-f372c99903e2"
      },
      "execution_count": 14,
      "outputs": [
        {
          "output_type": "execute_result",
          "data": {
            "text/plain": [
              "Text(0.5, 1.0, 'Ящик с усами для цены в зависимости от топ-10 вузов')"
            ]
          },
          "metadata": {},
          "execution_count": 14
        },
        {
          "output_type": "display_data",
          "data": {
            "text/plain": [
              "<Figure size 1300x500 with 1 Axes>"
            ],
            "image/png": "[encoded data removed]"
          },
          "metadata": {}
        }
      ]
    },
    {
      "cell_type": "code",
      "source": [
        "plt.figure(figsize=(13,5))\n",
        "sns.boxplot(x='Топ-20 вуз',y='Цена',data = df_raw)\n",
        "plt.title('Ящик с усами для цены в зависимости от топ-20 вузов')"
      ],
      "metadata": {
        "colab": {
          "base_uri": "https://localhost:8080/",
          "height": 504
        },
        "id": "UnhGRdBkaRuh",
        "outputId": "feddcd4f-30ed-4d62-b410-09814a6d37c2"
      },
      "execution_count": 15,
      "outputs": [
        {
          "output_type": "execute_result",
          "data": {
            "text/plain": [
              "Text(0.5, 1.0, 'Ящик с усами для цены в зависимости от топ-10 вузов')"
            ]
          },
          "metadata": {},
          "execution_count": 15
        },
        {
          "output_type": "display_data",
          "data": {
            "text/plain": [
              "<Figure size 1300x500 with 1 Axes>"
            ],
            "image/png": "[encoded data removed]"
          },
          "metadata": {}
        }
      ]
    },
    {
      "cell_type": "markdown",
      "source": [
        "Действительно видно, что цены на репетиторов из топ-10 вузов выше, чем на репетиторов не из этой десятки, то есть добавление этого признака оправдано и может оказаться полезным. У топ-20 различие уже не такое сильное, то есть имеет смысл отказаться от этого признака."
      ],
      "metadata": {
        "id": "fEUaRuNuaaov"
      }
    },
    {
      "cell_type": "code",
      "source": [
        "df_raw.drop('Топ-20 вуз', axis=1, inplace=True)\n",
        "# ошибка потому что я удалила уже, а потом случайно еще раз нажала удалить, а уже нечего удалять"
      ],
      "metadata": {
        "colab": {
          "base_uri": "https://localhost:8080/",
          "height": 282
        },
        "collapsed": true,
        "id": "0K1oOk4Y_lRw",
        "outputId": "9af031da-0fdd-463f-8839-fe6b9fed94fb"
      },
      "execution_count": 79,
      "outputs": [
        {
          "output_type": "error",
          "ename": "KeyError",
          "evalue": "\"['Топ-20 вуз'] not found in axis\"",
          "traceback": [
            "\u001b[0;31m---------------------------------------------------------------------------\u001b[0m",
            "\u001b[0;31mKeyError\u001b[0m                                  Traceback (most recent call last)",
            "\u001b[0;32m<ipython-input-79-e15d9432d287>\u001b[0m in \u001b[0;36m<cell line: 1>\u001b[0;34m()\u001b[0m\n\u001b[0;32m----> 1\u001b[0;31m \u001b[0mdf_raw\u001b[0m\u001b[0;34m.\u001b[0m\u001b[0mdrop\u001b[0m\u001b[0;34m(\u001b[0m\u001b[0;34m'Топ-20 вуз'\u001b[0m\u001b[0;34m,\u001b[0m \u001b[0maxis\u001b[0m\u001b[0;34m=\u001b[0m\u001b[0;36m1\u001b[0m\u001b[0;34m,\u001b[0m \u001b[0minplace\u001b[0m\u001b[0;34m=\u001b[0m\u001b[0;32mTrue\u001b[0m\u001b[0;34m)\u001b[0m\u001b[0;34m\u001b[0m\u001b[0;34m\u001b[0m\u001b[0m\n\u001b[0m",
            "\u001b[0;32m/usr/local/lib/python3.10/dist-packages/pandas/core/frame.py\u001b[0m in \u001b[0;36mdrop\u001b[0;34m(self, labels, axis, index, columns, level, inplace, errors)\u001b[0m\n\u001b[1;32m   5256\u001b[0m                 \u001b[0mweight\u001b[0m  \u001b[0;36m1.0\u001b[0m     \u001b[0;36m0.8\u001b[0m\u001b[0;34m\u001b[0m\u001b[0;34m\u001b[0m\u001b[0m\n\u001b[1;32m   5257\u001b[0m         \"\"\"\n\u001b[0;32m-> 5258\u001b[0;31m         return super().drop(\n\u001b[0m\u001b[1;32m   5259\u001b[0m             \u001b[0mlabels\u001b[0m\u001b[0;34m=\u001b[0m\u001b[0mlabels\u001b[0m\u001b[0;34m,\u001b[0m\u001b[0;34m\u001b[0m\u001b[0;34m\u001b[0m\u001b[0m\n\u001b[1;32m   5260\u001b[0m             \u001b[0maxis\u001b[0m\u001b[0;34m=\u001b[0m\u001b[0maxis\u001b[0m\u001b[0;34m,\u001b[0m\u001b[0;34m\u001b[0m\u001b[0;34m\u001b[0m\u001b[0m\n",
            "\u001b[0;32m/usr/local/lib/python3.10/dist-packages/pandas/core/generic.py\u001b[0m in \u001b[0;36mdrop\u001b[0;34m(self, labels, axis, index, columns, level, inplace, errors)\u001b[0m\n\u001b[1;32m   4547\u001b[0m         \u001b[0;32mfor\u001b[0m \u001b[0maxis\u001b[0m\u001b[0;34m,\u001b[0m \u001b[0mlabels\u001b[0m \u001b[0;32min\u001b[0m \u001b[0maxes\u001b[0m\u001b[0;34m.\u001b[0m\u001b[0mitems\u001b[0m\u001b[0;34m(\u001b[0m\u001b[0;34m)\u001b[0m\u001b[0;34m:\u001b[0m\u001b[0;34m\u001b[0m\u001b[0;34m\u001b[0m\u001b[0m\n\u001b[1;32m   4548\u001b[0m             \u001b[0;32mif\u001b[0m \u001b[0mlabels\u001b[0m \u001b[0;32mis\u001b[0m \u001b[0;32mnot\u001b[0m \u001b[0;32mNone\u001b[0m\u001b[0;34m:\u001b[0m\u001b[0;34m\u001b[0m\u001b[0;34m\u001b[0m\u001b[0m\n\u001b[0;32m-> 4549\u001b[0;31m                 \u001b[0mobj\u001b[0m \u001b[0;34m=\u001b[0m \u001b[0mobj\u001b[0m\u001b[0;34m.\u001b[0m\u001b[0m_drop_axis\u001b[0m\u001b[0;34m(\u001b[0m\u001b[0mlabels\u001b[0m\u001b[0;34m,\u001b[0m \u001b[0maxis\u001b[0m\u001b[0;34m,\u001b[0m \u001b[0mlevel\u001b[0m\u001b[0;34m=\u001b[0m\u001b[0mlevel\u001b[0m\u001b[0;34m,\u001b[0m \u001b[0merrors\u001b[0m\u001b[0;34m=\u001b[0m\u001b[0merrors\u001b[0m\u001b[0;34m)\u001b[0m\u001b[0;34m\u001b[0m\u001b[0;34m\u001b[0m\u001b[0m\n\u001b[0m\u001b[1;32m   4550\u001b[0m \u001b[0;34m\u001b[0m\u001b[0m\n\u001b[1;32m   4551\u001b[0m         \u001b[0;32mif\u001b[0m \u001b[0minplace\u001b[0m\u001b[0;34m:\u001b[0m\u001b[0;34m\u001b[0m\u001b[0;34m\u001b[0m\u001b[0m\n",
            "\u001b[0;32m/usr/local/lib/python3.10/dist-packages/pandas/core/generic.py\u001b[0m in \u001b[0;36m_drop_axis\u001b[0;34m(self, labels, axis, level, errors, only_slice)\u001b[0m\n\u001b[1;32m   4589\u001b[0m                 \u001b[0mnew_axis\u001b[0m \u001b[0;34m=\u001b[0m \u001b[0maxis\u001b[0m\u001b[0;34m.\u001b[0m\u001b[0mdrop\u001b[0m\u001b[0;34m(\u001b[0m\u001b[0mlabels\u001b[0m\u001b[0;34m,\u001b[0m \u001b[0mlevel\u001b[0m\u001b[0;34m=\u001b[0m\u001b[0mlevel\u001b[0m\u001b[0;34m,\u001b[0m \u001b[0merrors\u001b[0m\u001b[0;34m=\u001b[0m\u001b[0merrors\u001b[0m\u001b[0;34m)\u001b[0m\u001b[0;34m\u001b[0m\u001b[0;34m\u001b[0m\u001b[0m\n\u001b[1;32m   4590\u001b[0m             \u001b[0;32melse\u001b[0m\u001b[0;34m:\u001b[0m\u001b[0;34m\u001b[0m\u001b[0;34m\u001b[0m\u001b[0m\n\u001b[0;32m-> 4591\u001b[0;31m                 \u001b[0mnew_axis\u001b[0m \u001b[0;34m=\u001b[0m \u001b[0maxis\u001b[0m\u001b[0;34m.\u001b[0m\u001b[0mdrop\u001b[0m\u001b[0;34m(\u001b[0m\u001b[0mlabels\u001b[0m\u001b[0;34m,\u001b[0m \u001b[0merrors\u001b[0m\u001b[0;34m=\u001b[0m\u001b[0merrors\u001b[0m\u001b[0;34m)\u001b[0m\u001b[0;34m\u001b[0m\u001b[0;34m\u001b[0m\u001b[0m\n\u001b[0m\u001b[1;32m   4592\u001b[0m             \u001b[0mindexer\u001b[0m \u001b[0;34m=\u001b[0m \u001b[0maxis\u001b[0m\u001b[0;34m.\u001b[0m\u001b[0mget_indexer\u001b[0m\u001b[0;34m(\u001b[0m\u001b[0mnew_axis\u001b[0m\u001b[0;34m)\u001b[0m\u001b[0;34m\u001b[0m\u001b[0;34m\u001b[0m\u001b[0m\n\u001b[1;32m   4593\u001b[0m \u001b[0;34m\u001b[0m\u001b[0m\n",
            "\u001b[0;32m/usr/local/lib/python3.10/dist-packages/pandas/core/indexes/base.py\u001b[0m in \u001b[0;36mdrop\u001b[0;34m(self, labels, errors)\u001b[0m\n\u001b[1;32m   6697\u001b[0m         \u001b[0;32mif\u001b[0m \u001b[0mmask\u001b[0m\u001b[0;34m.\u001b[0m\u001b[0many\u001b[0m\u001b[0;34m(\u001b[0m\u001b[0;34m)\u001b[0m\u001b[0;34m:\u001b[0m\u001b[0;34m\u001b[0m\u001b[0;34m\u001b[0m\u001b[0m\n\u001b[1;32m   6698\u001b[0m             \u001b[0;32mif\u001b[0m \u001b[0merrors\u001b[0m \u001b[0;34m!=\u001b[0m \u001b[0;34m\"ignore\"\u001b[0m\u001b[0;34m:\u001b[0m\u001b[0;34m\u001b[0m\u001b[0;34m\u001b[0m\u001b[0m\n\u001b[0;32m-> 6699\u001b[0;31m                 \u001b[0;32mraise\u001b[0m \u001b[0mKeyError\u001b[0m\u001b[0;34m(\u001b[0m\u001b[0;34mf\"{list(labels[mask])} not found in axis\"\u001b[0m\u001b[0;34m)\u001b[0m\u001b[0;34m\u001b[0m\u001b[0;34m\u001b[0m\u001b[0m\n\u001b[0m\u001b[1;32m   6700\u001b[0m             \u001b[0mindexer\u001b[0m \u001b[0;34m=\u001b[0m \u001b[0mindexer\u001b[0m\u001b[0;34m[\u001b[0m\u001b[0;34m~\u001b[0m\u001b[0mmask\u001b[0m\u001b[0;34m]\u001b[0m\u001b[0;34m\u001b[0m\u001b[0;34m\u001b[0m\u001b[0m\n\u001b[1;32m   6701\u001b[0m         \u001b[0;32mreturn\u001b[0m \u001b[0mself\u001b[0m\u001b[0;34m.\u001b[0m\u001b[0mdelete\u001b[0m\u001b[0;34m(\u001b[0m\u001b[0mindexer\u001b[0m\u001b[0;34m)\u001b[0m\u001b[0;34m\u001b[0m\u001b[0;34m\u001b[0m\u001b[0m\n",
            "\u001b[0;31mKeyError\u001b[0m: \"['Топ-20 вуз'] not found in axis\""
          ]
        }
      ]
    },
    {
      "cell_type": "markdown",
      "source": [
        "Стоит также предположить, что цена сильно зависит и от предмета. Визуализируем это, чтобы рассмотреть подробнее:"
      ],
      "metadata": {
        "id": "53Lr4xh3beoS"
      }
    },
    {
      "cell_type": "code",
      "source": [
        "plt.figure(figsize=(17,5))\n",
        "sns.boxplot(x='Предмет',y='Цена',data = df_raw)"
      ],
      "metadata": {
        "colab": {
          "base_uri": "https://localhost:8080/",
          "height": 482
        },
        "id": "yNz_vmW_bwGW",
        "outputId": "c765b7f1-17ef-4b67-b6a3-4e2831fa52d0"
      },
      "execution_count": 17,
      "outputs": [
        {
          "output_type": "execute_result",
          "data": {
            "text/plain": [
              "<Axes: xlabel='Предмет', ylabel='Цена'>"
            ]
          },
          "metadata": {},
          "execution_count": 17
        },
        {
          "output_type": "display_data",
          "data": {
            "text/plain": [
              "<Figure size 1700x500 with 1 Axes>"
            ],
            "image/png": "[encoded data removed]"
          },
          "metadata": {}
        }
      ]
    },
    {
      "cell_type": "markdown",
      "source": [
        "Попробуем добавить три признака для разбивки предметов:\n",
        "\n",
        "1) разделим на преметы ЕГЭ и нет\n",
        "\n",
        "2) разделим на три группы - гуманитарные, естестенные и технические\n",
        "\n",
        "3) разделим на \"языковые\" предметы и неязыковые"
      ],
      "metadata": {
        "id": "XE_7Iyp5b0xI"
      }
    },
    {
      "cell_type": "code",
      "source": [
        "# проверяем входит ли предмет в перечень ЕГЭ\n",
        "rse_lst = ['Русский язык', 'Математика', 'Английский язык','Биология', 'Обществознание', 'География', 'Информатика', 'Физика', 'Химия', 'Испанский язык']\n",
        "df_raw['Предмет ЕГЭ'] = df_raw['Предмет'].isin (rse_lst).astype(int)\n",
        "\n",
        "\n",
        "# делим и распределяем предметы на гуманитарные, естественные и технические\n",
        "gumant = ['Русский язык', 'Английский язык', 'Обществознание', 'Испанский язык']\n",
        "estestv = ['Биология', 'Физика', 'Химия', 'География']\n",
        "tehnich = ['Математика', 'Информатика', 'Экономика']\n",
        "df_raw['Гуманитарная наука'] = df_raw['Предмет'].isin (gumant).astype(int)\n",
        "df_raw['Естественная наука'] = df_raw['Предмет'].isin (estestv).astype(int)\n",
        "df_raw['Техническая наука'] = df_raw['Предмет'].isin (tehnich).astype(int)\n",
        "\n",
        "# проверяем является ли предмет языком\n",
        "lang_lst = ['Русский язык', 'Английский язык', 'Испанский язык']\n",
        "df_raw['Языковой предмет'] = df_raw['Предмет'].isin (lang_lst).astype(int)"
      ],
      "metadata": {
        "id": "TBrrf7XscMZg"
      },
      "execution_count": 45,
      "outputs": []
    },
    {
      "cell_type": "markdown",
      "source": [
        "1. Давайте точнее поразбираемся - влияет ли, является ли предмет достпуным для сдачи ЕГЭ на цену, и поищем другие интересные вещи."
      ],
      "metadata": {
        "id": "KvjIO8eFgtPc"
      }
    },
    {
      "cell_type": "code",
      "source": [
        "# Группируем данные по предмету ЕГЭ и считаем среднюю цену\n",
        "mean_price = df_raw.groupby('Предмет ЕГЭ')['Цена'].mean()\n",
        "\n",
        "plt.bar(mean_price.index, mean_price.values)\n",
        "plt.xticks(mean_price.index, ['не ЕГЭ', 'ЕГЭ'])\n",
        "plt.xlabel('Является ли предмет доступным на ЕГЭ')\n",
        "plt.ylabel('Средняя цена')\n",
        "plt.title('Средняя цена в зависимости от предмета ЕГЭ')\n",
        "plt.show()"
      ],
      "metadata": {
        "colab": {
          "base_uri": "https://localhost:8080/",
          "height": 472
        },
        "id": "c0FsXHL5cW1S",
        "outputId": "2d614663-7e68-4223-841d-7240f1d61a5a"
      },
      "execution_count": 25,
      "outputs": [
        {
          "output_type": "display_data",
          "data": {
            "text/plain": [
              "<Figure size 640x480 with 1 Axes>"
            ],
            "image/png": "[encoded data removed]"
          },
          "metadata": {}
        }
      ]
    },
    {
      "cell_type": "code",
      "source": [
        "df_raw[df_raw['Предмет ЕГЭ'] == 1].describe()"
      ],
      "metadata": {
        "colab": {
          "base_uri": "https://localhost:8080/",
          "height": 297
        },
        "id": "_QD5FdSJcW6g",
        "outputId": "84e6e9d2-5c97-4902-83f1-793188b98361"
      },
      "execution_count": 23,
      "outputs": [
        {
          "output_type": "execute_result",
          "data": {
            "text/plain": [
              "         На сайте  Заказы в работе      Оценка  Количество отзывов  \\\n",
              "count  894.000000       894.000000  894.000000          894.000000   \n",
              "mean     2.461689        12.630872    4.962993            3.992170   \n",
              "std      1.861987        24.010967    0.103595            7.985215   \n",
              "min      0.000000         0.000000    3.500000            0.000000   \n",
              "25%      1.000000         0.000000    4.951735            0.000000   \n",
              "50%      2.000000         3.000000    4.951735            1.000000   \n",
              "75%      4.000000        14.000000    5.000000            4.000000   \n",
              "max      7.000000       226.000000    5.000000           79.000000   \n",
              "\n",
              "               Цена  Топ-10 вуз  Топ-20 вуз  Предмет ЕГЭ  Гуманитарная наука  \\\n",
              "count    894.000000  894.000000  894.000000        894.0          894.000000   \n",
              "mean    2200.438935    0.149888    0.038031          1.0            0.400447   \n",
              "std     1598.642796    0.357162    0.191379          0.0            0.490263   \n",
              "min      375.000000    0.000000    0.000000          1.0            0.000000   \n",
              "25%     1125.000000    0.000000    0.000000          1.0            0.000000   \n",
              "50%     1740.196078    0.000000    0.000000          1.0            0.000000   \n",
              "75%     2812.500000    0.000000    0.000000          1.0            1.000000   \n",
              "max    14000.000000    1.000000    1.000000          1.0            1.000000   \n",
              "\n",
              "       Естественная наука  Техническая наука  \n",
              "count          894.000000         894.000000  \n",
              "mean             0.398210           0.201342  \n",
              "std              0.489803           0.401228  \n",
              "min              0.000000           0.000000  \n",
              "25%              0.000000           0.000000  \n",
              "50%              0.000000           0.000000  \n",
              "75%              1.000000           0.000000  \n",
              "max              1.000000           1.000000  "
            ],
            "text/html": [
              "\n",
              "  <div id=\"df-2b18048f-8cb3-481f-9f1a-acab365dee99\" class=\"colab-df-container\">\n",
              "    <div>\n",
              "<style scoped>\n",
              "    .dataframe tbody tr th:only-of-type {\n",
              "        vertical-align: middle;\n",
              "    }\n",
              "\n",
              "    .dataframe tbody tr th {\n",
              "        vertical-align: top;\n",
              "    }\n",
              "\n",
              "    .dataframe thead th {\n",
              "        text-align: right;\n",
              "    }\n",
              "</style>\n",
              "<table border=\"1\" class=\"dataframe\">\n",
              "  <thead>\n",
              "    <tr style=\"text-align: right;\">\n",
              "      <th></th>\n",
              "      <th>На сайте</th>\n",
              "      <th>Заказы в работе</th>\n",
              "      <th>Оценка</th>\n",
              "      <th>Количество отзывов</th>\n",
              "      <th>Цена</th>\n",
              "      <th>Топ-10 вуз</th>\n",
              "      <th>Топ-20 вуз</th>\n",
              "      <th>Предмет ЕГЭ</th>\n",
              "      <th>Гуманитарная наука</th>\n",
              "      <th>Естественная наука</th>\n",
              "      <th>Техническая наука</th>\n",
              "    </tr>\n",
              "  </thead>\n",
              "  <tbody>\n",
              "    <tr>\n",
              "      <th>count</th>\n",
              "      <td>894.000000</td>\n",
              "      <td>894.000000</td>\n",
              "      <td>894.000000</td>\n",
              "      <td>894.000000</td>\n",
              "      <td>894.000000</td>\n",
              "      <td>894.000000</td>\n",
              "      <td>894.000000</td>\n",
              "      <td>894.0</td>\n",
              "      <td>894.000000</td>\n",
              "      <td>894.000000</td>\n",
              "      <td>894.000000</td>\n",
              "    </tr>\n",
              "    <tr>\n",
              "      <th>mean</th>\n",
              "      <td>2.461689</td>\n",
              "      <td>12.630872</td>\n",
              "      <td>4.962993</td>\n",
              "      <td>3.992170</td>\n",
              "      <td>2200.438935</td>\n",
              "      <td>0.149888</td>\n",
              "      <td>0.038031</td>\n",
              "      <td>1.0</td>\n",
              "      <td>0.400447</td>\n",
              "      <td>0.398210</td>\n",
              "      <td>0.201342</td>\n",
              "    </tr>\n",
              "    <tr>\n",
              "      <th>std</th>\n",
              "      <td>1.861987</td>\n",
              "      <td>24.010967</td>\n",
              "      <td>0.103595</td>\n",
              "      <td>7.985215</td>\n",
              "      <td>1598.642796</td>\n",
              "      <td>0.357162</td>\n",
              "      <td>0.191379</td>\n",
              "      <td>0.0</td>\n",
              "      <td>0.490263</td>\n",
              "      <td>0.489803</td>\n",
              "      <td>0.401228</td>\n",
              "    </tr>\n",
              "    <tr>\n",
              "      <th>min</th>\n",
              "      <td>0.000000</td>\n",
              "      <td>0.000000</td>\n",
              "      <td>3.500000</td>\n",
              "      <td>0.000000</td>\n",
              "      <td>375.000000</td>\n",
              "      <td>0.000000</td>\n",
              "      <td>0.000000</td>\n",
              "      <td>1.0</td>\n",
              "      <td>0.000000</td>\n",
              "      <td>0.000000</td>\n",
              "      <td>0.000000</td>\n",
              "    </tr>\n",
              "    <tr>\n",
              "      <th>25%</th>\n",
              "      <td>1.000000</td>\n",
              "      <td>0.000000</td>\n",
              "      <td>4.951735</td>\n",
              "      <td>0.000000</td>\n",
              "      <td>1125.000000</td>\n",
              "      <td>0.000000</td>\n",
              "      <td>0.000000</td>\n",
              "      <td>1.0</td>\n",
              "      <td>0.000000</td>\n",
              "      <td>0.000000</td>\n",
              "      <td>0.000000</td>\n",
              "    </tr>\n",
              "    <tr>\n",
              "      <th>50%</th>\n",
              "      <td>2.000000</td>\n",
              "      <td>3.000000</td>\n",
              "      <td>4.951735</td>\n",
              "      <td>1.000000</td>\n",
              "      <td>1740.196078</td>\n",
              "      <td>0.000000</td>\n",
              "      <td>0.000000</td>\n",
              "      <td>1.0</td>\n",
              "      <td>0.000000</td>\n",
              "      <td>0.000000</td>\n",
              "      <td>0.000000</td>\n",
              "    </tr>\n",
              "    <tr>\n",
              "      <th>75%</th>\n",
              "      <td>4.000000</td>\n",
              "      <td>14.000000</td>\n",
              "      <td>5.000000</td>\n",
              "      <td>4.000000</td>\n",
              "      <td>2812.500000</td>\n",
              "      <td>0.000000</td>\n",
              "      <td>0.000000</td>\n",
              "      <td>1.0</td>\n",
              "      <td>1.000000</td>\n",
              "      <td>1.000000</td>\n",
              "      <td>0.000000</td>\n",
              "    </tr>\n",
              "    <tr>\n",
              "      <th>max</th>\n",
              "      <td>7.000000</td>\n",
              "      <td>226.000000</td>\n",
              "      <td>5.000000</td>\n",
              "      <td>79.000000</td>\n",
              "      <td>14000.000000</td>\n",
              "      <td>1.000000</td>\n",
              "      <td>1.000000</td>\n",
              "      <td>1.0</td>\n",
              "      <td>1.000000</td>\n",
              "      <td>1.000000</td>\n",
              "      <td>1.000000</td>\n",
              "    </tr>\n",
              "  </tbody>\n",
              "</table>\n",
              "</div>\n",
              "    <div class=\"colab-df-buttons\">\n",
              "\n",
              "  <div class=\"colab-df-container\">\n",
              "    <button class=\"colab-df-convert\" onclick=\"convertToInteractive('df-2b18048f-8cb3-481f-9f1a-acab365dee99')\"\n",
              "            title=\"Convert this dataframe to an interactive table.\"\n",
              "            style=\"display:none;\">\n",
              "\n",
              "  <svg xmlns=\"http://www.w3.org/2000/svg\" height=\"24px\" viewBox=\"0 -960 960 960\">\n",
              "    <path d=\"M120-120v-720h720v720H120Zm60-500h600v-160H180v160Zm220 220h160v-160H400v160Zm0 220h160v-160H400v160ZM180-400h160v-160H180v160Zm440 0h160v-160H620v160ZM180-180h160v-160H180v160Zm440 0h160v-160H620v160Z\"/>\n",
              "  </svg>\n",
              "    </button>\n",
              "\n",
              "  <style>\n",
              "    .colab-df-container {\n",
              "      display:flex;\n",
              "      gap: 12px;\n",
              "    }\n",
              "\n",
              "    .colab-df-convert {\n",
              "      background-color: #E8F0FE;\n",
              "      border: none;\n",
              "      border-radius: 50%;\n",
              "      cursor: pointer;\n",
              "      display: none;\n",
              "      fill: #1967D2;\n",
              "      height: 32px;\n",
              "      padding: 0 0 0 0;\n",
              "      width: 32px;\n",
              "    }\n",
              "\n",
              "    .colab-df-convert:hover {\n",
              "      background-color: #E2EBFA;\n",
              "      box-shadow: 0px 1px 2px rgba(60, 64, 67, 0.3), 0px 1px 3px 1px rgba(60, 64, 67, 0.15);\n",
              "      fill: #174EA6;\n",
              "    }\n",
              "\n",
              "    .colab-df-buttons div {\n",
              "      margin-bottom: 4px;\n",
              "    }\n",
              "\n",
              "    [theme=dark] .colab-df-convert {\n",
              "      background-color: #3B4455;\n",
              "      fill: #D2E3FC;\n",
              "    }\n",
              "\n",
              "    [theme=dark] .colab-df-convert:hover {\n",
              "      background-color: #434B5C;\n",
              "      box-shadow: 0px 1px 3px 1px rgba(0, 0, 0, 0.15);\n",
              "      filter: drop-shadow(0px 1px 2px rgba(0, 0, 0, 0.3));\n",
              "      fill: #FFFFFF;\n",
              "    }\n",
              "  </style>\n",
              "\n",
              "    <script>\n",
              "      const buttonEl =\n",
              "        document.querySelector('#df-2b18048f-8cb3-481f-9f1a-acab365dee99 button.colab-df-convert');\n",
              "      buttonEl.style.display =\n",
              "        google.colab.kernel.accessAllowed ? 'block' : 'none';\n",
              "\n",
              "      async function convertToInteractive(key) {\n",
              "        const element = document.querySelector('#df-2b18048f-8cb3-481f-9f1a-acab365dee99');\n",
              "        const dataTable =\n",
              "          await google.colab.kernel.invokeFunction('convertToInteractive',\n",
              "                                                    [key], {});\n",
              "        if (!dataTable) return;\n",
              "\n",
              "        const docLinkHtml = 'Like what you see? Visit the ' +\n",
              "          '<a target=\"_blank\" href=https://colab.research.google.com/notebooks/data_table.ipynb>data table notebook</a>'\n",
              "          + ' to learn more about interactive tables.';\n",
              "        element.innerHTML = '';\n",
              "        dataTable['output_type'] = 'display_data';\n",
              "        await google.colab.output.renderOutput(dataTable, element);\n",
              "        const docLink = document.createElement('div');\n",
              "        docLink.innerHTML = docLinkHtml;\n",
              "        element.appendChild(docLink);\n",
              "      }\n",
              "    </script>\n",
              "  </div>\n",
              "\n",
              "\n",
              "<div id=\"df-19c91927-5ea7-4234-8e9a-58f144343bca\">\n",
              "  <button class=\"colab-df-quickchart\" onclick=\"quickchart('df-19c91927-5ea7-4234-8e9a-58f144343bca')\"\n",
              "            title=\"Suggest charts\"\n",
              "            style=\"display:none;\">\n",
              "\n",
              "<svg xmlns=\"http://www.w3.org/2000/svg\" height=\"24px\"viewBox=\"0 0 24 24\"\n",
              "     width=\"24px\">\n",
              "    <g>\n",
              "        <path d=\"M19 3H5c-1.1 0-2 .9-2 2v14c0 1.1.9 2 2 2h14c1.1 0 2-.9 2-2V5c0-1.1-.9-2-2-2zM9 17H7v-7h2v7zm4 0h-2V7h2v10zm4 0h-2v-4h2v4z\"/>\n",
              "    </g>\n",
              "</svg>\n",
              "  </button>\n",
              "\n",
              "<style>\n",
              "  .colab-df-quickchart {\n",
              "      --bg-color: #E8F0FE;\n",
              "      --fill-color: #1967D2;\n",
              "      --hover-bg-color: #E2EBFA;\n",
              "      --hover-fill-color: #174EA6;\n",
              "      --disabled-fill-color: #AAA;\n",
              "      --disabled-bg-color: #DDD;\n",
              "  }\n",
              "\n",
              "  [theme=dark] .colab-df-quickchart {\n",
              "      --bg-color: #3B4455;\n",
              "      --fill-color: #D2E3FC;\n",
              "      --hover-bg-color: #434B5C;\n",
              "      --hover-fill-color: #FFFFFF;\n",
              "      --disabled-bg-color: #3B4455;\n",
              "      --disabled-fill-color: #666;\n",
              "  }\n",
              "\n",
              "  .colab-df-quickchart {\n",
              "    background-color: var(--bg-color);\n",
              "    border: none;\n",
              "    border-radius: 50%;\n",
              "    cursor: pointer;\n",
              "    display: none;\n",
              "    fill: var(--fill-color);\n",
              "    height: 32px;\n",
              "    padding: 0;\n",
              "    width: 32px;\n",
              "  }\n",
              "\n",
              "  .colab-df-quickchart:hover {\n",
              "    background-color: var(--hover-bg-color);\n",
              "    box-shadow: 0 1px 2px rgba(60, 64, 67, 0.3), 0 1px 3px 1px rgba(60, 64, 67, 0.15);\n",
              "    fill: var(--button-hover-fill-color);\n",
              "  }\n",
              "\n",
              "  .colab-df-quickchart-complete:disabled,\n",
              "  .colab-df-quickchart-complete:disabled:hover {\n",
              "    background-color: var(--disabled-bg-color);\n",
              "    fill: var(--disabled-fill-color);\n",
              "    box-shadow: none;\n",
              "  }\n",
              "\n",
              "  .colab-df-spinner {\n",
              "    border: 2px solid var(--fill-color);\n",
              "    border-color: transparent;\n",
              "    border-bottom-color: var(--fill-color);\n",
              "    animation:\n",
              "      spin 1s steps(1) infinite;\n",
              "  }\n",
              "\n",
              "  @keyframes spin {\n",
              "    0% {\n",
              "      border-color: transparent;\n",
              "      border-bottom-color: var(--fill-color);\n",
              "      border-left-color: var(--fill-color);\n",
              "    }\n",
              "    20% {\n",
              "      border-color: transparent;\n",
              "      border-left-color: var(--fill-color);\n",
              "      border-top-color: var(--fill-color);\n",
              "    }\n",
              "    30% {\n",
              "      border-color: transparent;\n",
              "      border-left-color: var(--fill-color);\n",
              "      border-top-color: var(--fill-color);\n",
              "      border-right-color: var(--fill-color);\n",
              "    }\n",
              "    40% {\n",
              "      border-color: transparent;\n",
              "      border-right-color: var(--fill-color);\n",
              "      border-top-color: var(--fill-color);\n",
              "    }\n",
              "    60% {\n",
              "      border-color: transparent;\n",
              "      border-right-color: var(--fill-color);\n",
              "    }\n",
              "    80% {\n",
              "      border-color: transparent;\n",
              "      border-right-color: var(--fill-color);\n",
              "      border-bottom-color: var(--fill-color);\n",
              "    }\n",
              "    90% {\n",
              "      border-color: transparent;\n",
              "      border-bottom-color: var(--fill-color);\n",
              "    }\n",
              "  }\n",
              "</style>\n",
              "\n",
              "  <script>\n",
              "    async function quickchart(key) {\n",
              "      const quickchartButtonEl =\n",
              "        document.querySelector('#' + key + ' button');\n",
              "      quickchartButtonEl.disabled = true;  // To prevent multiple clicks.\n",
              "      quickchartButtonEl.classList.add('colab-df-spinner');\n",
              "      try {\n",
              "        const charts = await google.colab.kernel.invokeFunction(\n",
              "            'suggestCharts', [key], {});\n",
              "      } catch (error) {\n",
              "        console.error('Error during call to suggestCharts:', error);\n",
              "      }\n",
              "      quickchartButtonEl.classList.remove('colab-df-spinner');\n",
              "      quickchartButtonEl.classList.add('colab-df-quickchart-complete');\n",
              "    }\n",
              "    (() => {\n",
              "      let quickchartButtonEl =\n",
              "        document.querySelector('#df-19c91927-5ea7-4234-8e9a-58f144343bca button');\n",
              "      quickchartButtonEl.style.display =\n",
              "        google.colab.kernel.accessAllowed ? 'block' : 'none';\n",
              "    })();\n",
              "  </script>\n",
              "</div>\n",
              "    </div>\n",
              "  </div>\n"
            ],
            "application/vnd.google.colaboratory.intrinsic+json": {
              "type": "dataframe",
              "summary": "{\n  \"name\": \"df_raw[df_raw['\\u041f\\u0440\\u0435\\u0434\\u043c\\u0435\\u0442 \\u0415\\u0413\\u042d'] == 1]\",\n  \"rows\": 8,\n  \"fields\": [\n    {\n      \"column\": \"\\u041d\\u0430 \\u0441\\u0430\\u0439\\u0442\\u0435\",\n      \"properties\": {\n        \"dtype\": \"number\",\n        \"std\": 315.15839908666175,\n        \"min\": 0.0,\n        \"max\": 894.0,\n        \"num_unique_values\": 8,\n        \"samples\": [\n          2.46168903803132,\n          2.0,\n          894.0\n        ],\n        \"semantic_type\": \"\",\n        \"description\": \"\"\n      }\n    },\n    {\n      \"column\": \"\\u0417\\u0430\\u043a\\u0430\\u0437\\u044b \\u0432 \\u0440\\u0430\\u0431\\u043e\\u0442\\u0435\",\n      \"properties\": {\n        \"dtype\": \"number\",\n        \"std\": 311.465125221364,\n        \"min\": 0.0,\n        \"max\": 894.0,\n        \"num_unique_values\": 7,\n        \"samples\": [\n          894.0,\n          12.630872483221477,\n          14.0\n        ],\n        \"semantic_type\": \"\",\n        \"description\": \"\"\n      }\n    },\n    {\n      \"column\": \"\\u041e\\u0446\\u0435\\u043d\\u043a\\u0430\",\n      \"properties\": {\n        \"dtype\": \"number\",\n        \"std\": 314.6433480302463,\n        \"min\": 0.10359529283322283,\n        \"max\": 894.0,\n        \"num_unique_values\": 6,\n        \"samples\": [\n          894.0,\n          4.962993380413369,\n          5.0\n        ],\n        \"semantic_type\": \"\",\n        \"description\": \"\"\n      }\n    },\n    {\n      \"column\": \"\\u041a\\u043e\\u043b\\u0438\\u0447\\u0435\\u0441\\u0442\\u0432\\u043e \\u043e\\u0442\\u0437\\u044b\\u0432\\u043e\\u0432\",\n      \"properties\": {\n        \"dtype\": \"number\",\n        \"std\": 312.3795306661778,\n        \"min\": 0.0,\n        \"max\": 894.0,\n        \"num_unique_values\": 7,\n        \"samples\": [\n          894.0,\n          3.9921700223713645,\n          4.0\n        ],\n        \"semantic_type\": \"\",\n        \"description\": \"\"\n      }\n    },\n    {\n      \"column\": \"\\u0426\\u0435\\u043d\\u0430\",\n      \"properties\": {\n        \"dtype\": \"number\",\n        \"std\": 4472.093230116877,\n        \"min\": 375.0,\n        \"max\": 14000.0,\n        \"num_unique_values\": 8,\n        \"samples\": [\n          2200.4389348150203,\n          1740.1960784313724,\n          894.0\n        ],\n        \"semantic_type\": \"\",\n        \"description\": \"\"\n      }\n    },\n    {\n      \"column\": \"\\u0422\\u043e\\u043f-10 \\u0432\\u0443\\u0437\",\n      \"properties\": {\n        \"dtype\": \"number\",\n        \"std\": 316.0008002980801,\n        \"min\": 0.0,\n        \"max\": 894.0,\n        \"num_unique_values\": 5,\n        \"samples\": [\n          0.14988814317673377,\n          1.0,\n          0.3571615561222796\n        ],\n        \"semantic_type\": \"\",\n        \"description\": \"\"\n      }\n    },\n    {\n      \"column\": \"\\u0422\\u043e\\u043f-20 \\u0432\\u0443\\u0437\",\n      \"properties\": {\n        \"dtype\": \"number\",\n        \"std\": 316.01482242429705,\n        \"min\": 0.0,\n        \"max\": 894.0,\n        \"num_unique_values\": 5,\n        \"samples\": [\n          0.03803131991051454,\n          1.0,\n          0.19137896225201131\n        ],\n        \"semantic_type\": \"\",\n        \"description\": \"\"\n      }\n    },\n    {\n      \"column\": \"\\u041f\\u0440\\u0435\\u0434\\u043c\\u0435\\u0442 \\u0415\\u0413\\u042d\",\n      \"properties\": {\n        \"dtype\": \"number\",\n        \"std\": 315.77387931420617,\n        \"min\": 0.0,\n        \"max\": 894.0,\n        \"num_unique_values\": 3,\n        \"samples\": [\n          894.0,\n          1.0,\n          0.0\n        ],\n        \"semantic_type\": \"\",\n        \"description\": \"\"\n      }\n    },\n    {\n      \"column\": \"\\u0413\\u0443\\u043c\\u0430\\u043d\\u0438\\u0442\\u0430\\u0440\\u043d\\u0430\\u044f \\u043d\\u0430\\u0443\\u043a\\u0430\",\n      \"properties\": {\n        \"dtype\": \"number\",\n        \"std\": 315.93100113197636,\n        \"min\": 0.0,\n        \"max\": 894.0,\n        \"num_unique_values\": 5,\n        \"samples\": [\n          0.4004474272930649,\n          1.0,\n          0.49026333969593594\n        ],\n        \"semantic_type\": \"\",\n        \"description\": \"\"\n      }\n    },\n    {\n      \"column\": \"\\u0415\\u0441\\u0442\\u0435\\u0441\\u0442\\u0432\\u0435\\u043d\\u043d\\u0430\\u044f \\u043d\\u0430\\u0443\\u043a\\u0430\",\n      \"properties\": {\n        \"dtype\": \"number\",\n        \"std\": 315.9311373606957,\n        \"min\": 0.0,\n        \"max\": 894.0,\n        \"num_unique_values\": 5,\n        \"samples\": [\n          0.3982102908277405,\n          1.0,\n          0.48980323364381045\n        ],\n        \"semantic_type\": \"\",\n        \"description\": \"\"\n      }\n    },\n    {\n      \"column\": \"\\u0422\\u0435\\u0445\\u043d\\u0438\\u0447\\u0435\\u0441\\u043a\\u0430\\u044f \\u043d\\u0430\\u0443\\u043a\\u0430\",\n      \"properties\": {\n        \"dtype\": \"number\",\n        \"std\": 315.9959778474992,\n        \"min\": 0.0,\n        \"max\": 894.0,\n        \"num_unique_values\": 5,\n        \"samples\": [\n          0.20134228187919462,\n          1.0,\n          0.401227664289216\n        ],\n        \"semantic_type\": \"\",\n        \"description\": \"\"\n      }\n    }\n  ]\n}"
            }
          },
          "metadata": {},
          "execution_count": 23
        }
      ]
    },
    {
      "cell_type": "code",
      "source": [
        "df_raw[df_raw['Предмет ЕГЭ'] == 0].describe()"
      ],
      "metadata": {
        "colab": {
          "base_uri": "https://localhost:8080/",
          "height": 297
        },
        "id": "65x8JLpkcW-g",
        "outputId": "e1df19fb-0b42-4810-a90c-0d0e8c536ee0"
      },
      "execution_count": 26,
      "outputs": [
        {
          "output_type": "execute_result",
          "data": {
            "text/plain": [
              "         На сайте  Заказы в работе      Оценка  Количество отзывов  \\\n",
              "count  269.000000       269.000000  269.000000          269.000000   \n",
              "mean     1.951673         0.754647    4.914140            0.308550   \n",
              "std      1.960929         2.672278    0.275976            1.507927   \n",
              "min      0.000000         0.000000    1.000000            0.000000   \n",
              "25%      0.166667         0.000000    4.951735            0.000000   \n",
              "50%      1.000000         0.000000    4.951735            0.000000   \n",
              "75%      3.000000         0.000000    4.951735            0.000000   \n",
              "max      7.000000        25.000000    5.000000           19.000000   \n",
              "\n",
              "              Цена  Топ-10 вуз  Топ-20 вуз  Предмет ЕГЭ  Гуманитарная наука  \\\n",
              "count   269.000000  269.000000  269.000000        269.0               269.0   \n",
              "mean   1456.418390    0.055762    0.029740          0.0                 0.0   \n",
              "std    1144.443419    0.229889    0.170185          0.0                 0.0   \n",
              "min     225.000000    0.000000    0.000000          0.0                 0.0   \n",
              "25%     800.000000    0.000000    0.000000          0.0                 0.0   \n",
              "50%    1125.000000    0.000000    0.000000          0.0                 0.0   \n",
              "75%    1721.428571    0.000000    0.000000          0.0                 0.0   \n",
              "max    8125.000000    1.000000    1.000000          0.0                 0.0   \n",
              "\n",
              "       Естественная наука  Техническая наука  \n",
              "count               269.0         269.000000  \n",
              "mean                  0.0           0.334572  \n",
              "std                   0.0           0.472720  \n",
              "min                   0.0           0.000000  \n",
              "25%                   0.0           0.000000  \n",
              "50%                   0.0           0.000000  \n",
              "75%                   0.0           1.000000  \n",
              "max                   0.0           1.000000  "
            ],
            "text/html": [
              "\n",
              "  <div id=\"df-034103d6-87b3-4aca-b530-a3e54128c0ad\" class=\"colab-df-container\">\n",
              "    <div>\n",
              "<style scoped>\n",
              "    .dataframe tbody tr th:only-of-type {\n",
              "        vertical-align: middle;\n",
              "    }\n",
              "\n",
              "    .dataframe tbody tr th {\n",
              "        vertical-align: top;\n",
              "    }\n",
              "\n",
              "    .dataframe thead th {\n",
              "        text-align: right;\n",
              "    }\n",
              "</style>\n",
              "<table border=\"1\" class=\"dataframe\">\n",
              "  <thead>\n",
              "    <tr style=\"text-align: right;\">\n",
              "      <th></th>\n",
              "      <th>На сайте</th>\n",
              "      <th>Заказы в работе</th>\n",
              "      <th>Оценка</th>\n",
              "      <th>Количество отзывов</th>\n",
              "      <th>Цена</th>\n",
              "      <th>Топ-10 вуз</th>\n",
              "      <th>Топ-20 вуз</th>\n",
              "      <th>Предмет ЕГЭ</th>\n",
              "      <th>Гуманитарная наука</th>\n",
              "      <th>Естественная наука</th>\n",
              "      <th>Техническая наука</th>\n",
              "    </tr>\n",
              "  </thead>\n",
              "  <tbody>\n",
              "    <tr>\n",
              "      <th>count</th>\n",
              "      <td>269.000000</td>\n",
              "      <td>269.000000</td>\n",
              "      <td>269.000000</td>\n",
              "      <td>269.000000</td>\n",
              "      <td>269.000000</td>\n",
              "      <td>269.000000</td>\n",
              "      <td>269.000000</td>\n",
              "      <td>269.0</td>\n",
              "      <td>269.0</td>\n",
              "      <td>269.0</td>\n",
              "      <td>269.000000</td>\n",
              "    </tr>\n",
              "    <tr>\n",
              "      <th>mean</th>\n",
              "      <td>1.951673</td>\n",
              "      <td>0.754647</td>\n",
              "      <td>4.914140</td>\n",
              "      <td>0.308550</td>\n",
              "      <td>1456.418390</td>\n",
              "      <td>0.055762</td>\n",
              "      <td>0.029740</td>\n",
              "      <td>0.0</td>\n",
              "      <td>0.0</td>\n",
              "      <td>0.0</td>\n",
              "      <td>0.334572</td>\n",
              "    </tr>\n",
              "    <tr>\n",
              "      <th>std</th>\n",
              "      <td>1.960929</td>\n",
              "      <td>2.672278</td>\n",
              "      <td>0.275976</td>\n",
              "      <td>1.507927</td>\n",
              "      <td>1144.443419</td>\n",
              "      <td>0.229889</td>\n",
              "      <td>0.170185</td>\n",
              "      <td>0.0</td>\n",
              "      <td>0.0</td>\n",
              "      <td>0.0</td>\n",
              "      <td>0.472720</td>\n",
              "    </tr>\n",
              "    <tr>\n",
              "      <th>min</th>\n",
              "      <td>0.000000</td>\n",
              "      <td>0.000000</td>\n",
              "      <td>1.000000</td>\n",
              "      <td>0.000000</td>\n",
              "      <td>225.000000</td>\n",
              "      <td>0.000000</td>\n",
              "      <td>0.000000</td>\n",
              "      <td>0.0</td>\n",
              "      <td>0.0</td>\n",
              "      <td>0.0</td>\n",
              "      <td>0.000000</td>\n",
              "    </tr>\n",
              "    <tr>\n",
              "      <th>25%</th>\n",
              "      <td>0.166667</td>\n",
              "      <td>0.000000</td>\n",
              "      <td>4.951735</td>\n",
              "      <td>0.000000</td>\n",
              "      <td>800.000000</td>\n",
              "      <td>0.000000</td>\n",
              "      <td>0.000000</td>\n",
              "      <td>0.0</td>\n",
              "      <td>0.0</td>\n",
              "      <td>0.0</td>\n",
              "      <td>0.000000</td>\n",
              "    </tr>\n",
              "    <tr>\n",
              "      <th>50%</th>\n",
              "      <td>1.000000</td>\n",
              "      <td>0.000000</td>\n",
              "      <td>4.951735</td>\n",
              "      <td>0.000000</td>\n",
              "      <td>1125.000000</td>\n",
              "      <td>0.000000</td>\n",
              "      <td>0.000000</td>\n",
              "      <td>0.0</td>\n",
              "      <td>0.0</td>\n",
              "      <td>0.0</td>\n",
              "      <td>0.000000</td>\n",
              "    </tr>\n",
              "    <tr>\n",
              "      <th>75%</th>\n",
              "      <td>3.000000</td>\n",
              "      <td>0.000000</td>\n",
              "      <td>4.951735</td>\n",
              "      <td>0.000000</td>\n",
              "      <td>1721.428571</td>\n",
              "      <td>0.000000</td>\n",
              "      <td>0.000000</td>\n",
              "      <td>0.0</td>\n",
              "      <td>0.0</td>\n",
              "      <td>0.0</td>\n",
              "      <td>1.000000</td>\n",
              "    </tr>\n",
              "    <tr>\n",
              "      <th>max</th>\n",
              "      <td>7.000000</td>\n",
              "      <td>25.000000</td>\n",
              "      <td>5.000000</td>\n",
              "      <td>19.000000</td>\n",
              "      <td>8125.000000</td>\n",
              "      <td>1.000000</td>\n",
              "      <td>1.000000</td>\n",
              "      <td>0.0</td>\n",
              "      <td>0.0</td>\n",
              "      <td>0.0</td>\n",
              "      <td>1.000000</td>\n",
              "    </tr>\n",
              "  </tbody>\n",
              "</table>\n",
              "</div>\n",
              "    <div class=\"colab-df-buttons\">\n",
              "\n",
              "  <div class=\"colab-df-container\">\n",
              "    <button class=\"colab-df-convert\" onclick=\"convertToInteractive('df-034103d6-87b3-4aca-b530-a3e54128c0ad')\"\n",
              "            title=\"Convert this dataframe to an interactive table.\"\n",
              "            style=\"display:none;\">\n",
              "\n",
              "  <svg xmlns=\"http://www.w3.org/2000/svg\" height=\"24px\" viewBox=\"0 -960 960 960\">\n",
              "    <path d=\"M120-120v-720h720v720H120Zm60-500h600v-160H180v160Zm220 220h160v-160H400v160Zm0 220h160v-160H400v160ZM180-400h160v-160H180v160Zm440 0h160v-160H620v160ZM180-180h160v-160H180v160Zm440 0h160v-160H620v160Z\"/>\n",
              "  </svg>\n",
              "    </button>\n",
              "\n",
              "  <style>\n",
              "    .colab-df-container {\n",
              "      display:flex;\n",
              "      gap: 12px;\n",
              "    }\n",
              "\n",
              "    .colab-df-convert {\n",
              "      background-color: #E8F0FE;\n",
              "      border: none;\n",
              "      border-radius: 50%;\n",
              "      cursor: pointer;\n",
              "      display: none;\n",
              "      fill: #1967D2;\n",
              "      height: 32px;\n",
              "      padding: 0 0 0 0;\n",
              "      width: 32px;\n",
              "    }\n",
              "\n",
              "    .colab-df-convert:hover {\n",
              "      background-color: #E2EBFA;\n",
              "      box-shadow: 0px 1px 2px rgba(60, 64, 67, 0.3), 0px 1px 3px 1px rgba(60, 64, 67, 0.15);\n",
              "      fill: #174EA6;\n",
              "    }\n",
              "\n",
              "    .colab-df-buttons div {\n",
              "      margin-bottom: 4px;\n",
              "    }\n",
              "\n",
              "    [theme=dark] .colab-df-convert {\n",
              "      background-color: #3B4455;\n",
              "      fill: #D2E3FC;\n",
              "    }\n",
              "\n",
              "    [theme=dark] .colab-df-convert:hover {\n",
              "      background-color: #434B5C;\n",
              "      box-shadow: 0px 1px 3px 1px rgba(0, 0, 0, 0.15);\n",
              "      filter: drop-shadow(0px 1px 2px rgba(0, 0, 0, 0.3));\n",
              "      fill: #FFFFFF;\n",
              "    }\n",
              "  </style>\n",
              "\n",
              "    <script>\n",
              "      const buttonEl =\n",
              "        document.querySelector('#df-034103d6-87b3-4aca-b530-a3e54128c0ad button.colab-df-convert');\n",
              "      buttonEl.style.display =\n",
              "        google.colab.kernel.accessAllowed ? 'block' : 'none';\n",
              "\n",
              "      async function convertToInteractive(key) {\n",
              "        const element = document.querySelector('#df-034103d6-87b3-4aca-b530-a3e54128c0ad');\n",
              "        const dataTable =\n",
              "          await google.colab.kernel.invokeFunction('convertToInteractive',\n",
              "                                                    [key], {});\n",
              "        if (!dataTable) return;\n",
              "\n",
              "        const docLinkHtml = 'Like what you see? Visit the ' +\n",
              "          '<a target=\"_blank\" href=https://colab.research.google.com/notebooks/data_table.ipynb>data table notebook</a>'\n",
              "          + ' to learn more about interactive tables.';\n",
              "        element.innerHTML = '';\n",
              "        dataTable['output_type'] = 'display_data';\n",
              "        await google.colab.output.renderOutput(dataTable, element);\n",
              "        const docLink = document.createElement('div');\n",
              "        docLink.innerHTML = docLinkHtml;\n",
              "        element.appendChild(docLink);\n",
              "      }\n",
              "    </script>\n",
              "  </div>\n",
              "\n",
              "\n",
              "<div id=\"df-1cd8d553-536e-4e69-8f3e-b07c29f0757f\">\n",
              "  <button class=\"colab-df-quickchart\" onclick=\"quickchart('df-1cd8d553-536e-4e69-8f3e-b07c29f0757f')\"\n",
              "            title=\"Suggest charts\"\n",
              "            style=\"display:none;\">\n",
              "\n",
              "<svg xmlns=\"http://www.w3.org/2000/svg\" height=\"24px\"viewBox=\"0 0 24 24\"\n",
              "     width=\"24px\">\n",
              "    <g>\n",
              "        <path d=\"M19 3H5c-1.1 0-2 .9-2 2v14c0 1.1.9 2 2 2h14c1.1 0 2-.9 2-2V5c0-1.1-.9-2-2-2zM9 17H7v-7h2v7zm4 0h-2V7h2v10zm4 0h-2v-4h2v4z\"/>\n",
              "    </g>\n",
              "</svg>\n",
              "  </button>\n",
              "\n",
              "<style>\n",
              "  .colab-df-quickchart {\n",
              "      --bg-color: #E8F0FE;\n",
              "      --fill-color: #1967D2;\n",
              "      --hover-bg-color: #E2EBFA;\n",
              "      --hover-fill-color: #174EA6;\n",
              "      --disabled-fill-color: #AAA;\n",
              "      --disabled-bg-color: #DDD;\n",
              "  }\n",
              "\n",
              "  [theme=dark] .colab-df-quickchart {\n",
              "      --bg-color: #3B4455;\n",
              "      --fill-color: #D2E3FC;\n",
              "      --hover-bg-color: #434B5C;\n",
              "      --hover-fill-color: #FFFFFF;\n",
              "      --disabled-bg-color: #3B4455;\n",
              "      --disabled-fill-color: #666;\n",
              "  }\n",
              "\n",
              "  .colab-df-quickchart {\n",
              "    background-color: var(--bg-color);\n",
              "    border: none;\n",
              "    border-radius: 50%;\n",
              "    cursor: pointer;\n",
              "    display: none;\n",
              "    fill: var(--fill-color);\n",
              "    height: 32px;\n",
              "    padding: 0;\n",
              "    width: 32px;\n",
              "  }\n",
              "\n",
              "  .colab-df-quickchart:hover {\n",
              "    background-color: var(--hover-bg-color);\n",
              "    box-shadow: 0 1px 2px rgba(60, 64, 67, 0.3), 0 1px 3px 1px rgba(60, 64, 67, 0.15);\n",
              "    fill: var(--button-hover-fill-color);\n",
              "  }\n",
              "\n",
              "  .colab-df-quickchart-complete:disabled,\n",
              "  .colab-df-quickchart-complete:disabled:hover {\n",
              "    background-color: var(--disabled-bg-color);\n",
              "    fill: var(--disabled-fill-color);\n",
              "    box-shadow: none;\n",
              "  }\n",
              "\n",
              "  .colab-df-spinner {\n",
              "    border: 2px solid var(--fill-color);\n",
              "    border-color: transparent;\n",
              "    border-bottom-color: var(--fill-color);\n",
              "    animation:\n",
              "      spin 1s steps(1) infinite;\n",
              "  }\n",
              "\n",
              "  @keyframes spin {\n",
              "    0% {\n",
              "      border-color: transparent;\n",
              "      border-bottom-color: var(--fill-color);\n",
              "      border-left-color: var(--fill-color);\n",
              "    }\n",
              "    20% {\n",
              "      border-color: transparent;\n",
              "      border-left-color: var(--fill-color);\n",
              "      border-top-color: var(--fill-color);\n",
              "    }\n",
              "    30% {\n",
              "      border-color: transparent;\n",
              "      border-left-color: var(--fill-color);\n",
              "      border-top-color: var(--fill-color);\n",
              "      border-right-color: var(--fill-color);\n",
              "    }\n",
              "    40% {\n",
              "      border-color: transparent;\n",
              "      border-right-color: var(--fill-color);\n",
              "      border-top-color: var(--fill-color);\n",
              "    }\n",
              "    60% {\n",
              "      border-color: transparent;\n",
              "      border-right-color: var(--fill-color);\n",
              "    }\n",
              "    80% {\n",
              "      border-color: transparent;\n",
              "      border-right-color: var(--fill-color);\n",
              "      border-bottom-color: var(--fill-color);\n",
              "    }\n",
              "    90% {\n",
              "      border-color: transparent;\n",
              "      border-bottom-color: var(--fill-color);\n",
              "    }\n",
              "  }\n",
              "</style>\n",
              "\n",
              "  <script>\n",
              "    async function quickchart(key) {\n",
              "      const quickchartButtonEl =\n",
              "        document.querySelector('#' + key + ' button');\n",
              "      quickchartButtonEl.disabled = true;  // To prevent multiple clicks.\n",
              "      quickchartButtonEl.classList.add('colab-df-spinner');\n",
              "      try {\n",
              "        const charts = await google.colab.kernel.invokeFunction(\n",
              "            'suggestCharts', [key], {});\n",
              "      } catch (error) {\n",
              "        console.error('Error during call to suggestCharts:', error);\n",
              "      }\n",
              "      quickchartButtonEl.classList.remove('colab-df-spinner');\n",
              "      quickchartButtonEl.classList.add('colab-df-quickchart-complete');\n",
              "    }\n",
              "    (() => {\n",
              "      let quickchartButtonEl =\n",
              "        document.querySelector('#df-1cd8d553-536e-4e69-8f3e-b07c29f0757f button');\n",
              "      quickchartButtonEl.style.display =\n",
              "        google.colab.kernel.accessAllowed ? 'block' : 'none';\n",
              "    })();\n",
              "  </script>\n",
              "</div>\n",
              "    </div>\n",
              "  </div>\n"
            ],
            "application/vnd.google.colaboratory.intrinsic+json": {
              "type": "dataframe",
              "summary": "{\n  \"name\": \"df_raw[df_raw['\\u041f\\u0440\\u0435\\u0434\\u043c\\u0435\\u0442 \\u0415\\u0413\\u042d'] == 0]\",\n  \"rows\": 8,\n  \"fields\": [\n    {\n      \"column\": \"\\u041d\\u0430 \\u0441\\u0430\\u0439\\u0442\\u0435\",\n      \"properties\": {\n        \"dtype\": \"number\",\n        \"std\": 94.370132401775,\n        \"min\": 0.0,\n        \"max\": 269.0,\n        \"num_unique_values\": 8,\n        \"samples\": [\n          1.9516728624535316,\n          1.0,\n          269.0\n        ],\n        \"semantic_type\": \"\",\n        \"description\": \"\"\n      }\n    },\n    {\n      \"column\": \"\\u0417\\u0430\\u043a\\u0430\\u0437\\u044b \\u0432 \\u0440\\u0430\\u0431\\u043e\\u0442\\u0435\",\n      \"properties\": {\n        \"dtype\": \"number\",\n        \"std\": 94.06370455982639,\n        \"min\": 0.0,\n        \"max\": 269.0,\n        \"num_unique_values\": 5,\n        \"samples\": [\n          0.7546468401486989,\n          25.0,\n          2.6722780065359455\n        ],\n        \"semantic_type\": \"\",\n        \"description\": \"\"\n      }\n    },\n    {\n      \"column\": \"\\u041e\\u0446\\u0435\\u043d\\u043a\\u0430\",\n      \"properties\": {\n        \"dtype\": \"number\",\n        \"std\": 93.8108403189141,\n        \"min\": 0.27597567800251593,\n        \"max\": 269.0,\n        \"num_unique_values\": 6,\n        \"samples\": [\n          269.0,\n          4.914139571658438,\n          5.0\n        ],\n        \"semantic_type\": \"\",\n        \"description\": \"\"\n      }\n    },\n    {\n      \"column\": \"\\u041a\\u043e\\u043b\\u0438\\u0447\\u0435\\u0441\\u0442\\u0432\\u043e \\u043e\\u0442\\u0437\\u044b\\u0432\\u043e\\u0432\",\n      \"properties\": {\n        \"dtype\": \"number\",\n        \"std\": 94.28313758113809,\n        \"min\": 0.0,\n        \"max\": 269.0,\n        \"num_unique_values\": 5,\n        \"samples\": [\n          0.30855018587360594,\n          19.0,\n          1.507927230335372\n        ],\n        \"semantic_type\": \"\",\n        \"description\": \"\"\n      }\n    },\n    {\n      \"column\": \"\\u0426\\u0435\\u043d\\u0430\",\n      \"properties\": {\n        \"dtype\": \"number\",\n        \"std\": 2586.0238061989544,\n        \"min\": 225.0,\n        \"max\": 8125.0,\n        \"num_unique_values\": 8,\n        \"samples\": [\n          1456.4183900568657,\n          1125.0,\n          269.0\n        ],\n        \"semantic_type\": \"\",\n        \"description\": \"\"\n      }\n    },\n    {\n      \"column\": \"\\u0422\\u043e\\u043f-10 \\u0432\\u0443\\u0437\",\n      \"properties\": {\n        \"dtype\": \"number\",\n        \"std\": 95.04154300980042,\n        \"min\": 0.0,\n        \"max\": 269.0,\n        \"num_unique_values\": 5,\n        \"samples\": [\n          0.055762081784386616,\n          1.0,\n          0.22988940213407064\n        ],\n        \"semantic_type\": \"\",\n        \"description\": \"\"\n      }\n    },\n    {\n      \"column\": \"\\u0422\\u043e\\u043f-20 \\u0432\\u0443\\u0437\",\n      \"properties\": {\n        \"dtype\": \"number\",\n        \"std\": 95.04587607898264,\n        \"min\": 0.0,\n        \"max\": 269.0,\n        \"num_unique_values\": 5,\n        \"samples\": [\n          0.02973977695167286,\n          1.0,\n          0.17018516895659824\n        ],\n        \"semantic_type\": \"\",\n        \"description\": \"\"\n      }\n    },\n    {\n      \"column\": \"\\u041f\\u0440\\u0435\\u0434\\u043c\\u0435\\u0442 \\u0415\\u0413\\u042d\",\n      \"properties\": {\n        \"dtype\": \"number\",\n        \"std\": 95.10586206959064,\n        \"min\": 0.0,\n        \"max\": 269.0,\n        \"num_unique_values\": 2,\n        \"samples\": [\n          0.0,\n          269.0\n        ],\n        \"semantic_type\": \"\",\n        \"description\": \"\"\n      }\n    },\n    {\n      \"column\": \"\\u0413\\u0443\\u043c\\u0430\\u043d\\u0438\\u0442\\u0430\\u0440\\u043d\\u0430\\u044f \\u043d\\u0430\\u0443\\u043a\\u0430\",\n      \"properties\": {\n        \"dtype\": \"number\",\n        \"std\": 95.10586206959064,\n        \"min\": 0.0,\n        \"max\": 269.0,\n        \"num_unique_values\": 2,\n        \"samples\": [\n          0.0,\n          269.0\n        ],\n        \"semantic_type\": \"\",\n        \"description\": \"\"\n      }\n    },\n    {\n      \"column\": \"\\u0415\\u0441\\u0442\\u0435\\u0441\\u0442\\u0432\\u0435\\u043d\\u043d\\u0430\\u044f \\u043d\\u0430\\u0443\\u043a\\u0430\",\n      \"properties\": {\n        \"dtype\": \"number\",\n        \"std\": 95.10586206959064,\n        \"min\": 0.0,\n        \"max\": 269.0,\n        \"num_unique_values\": 2,\n        \"samples\": [\n          0.0,\n          269.0\n        ],\n        \"semantic_type\": \"\",\n        \"description\": \"\"\n      }\n    },\n    {\n      \"column\": \"\\u0422\\u0435\\u0445\\u043d\\u0438\\u0447\\u0435\\u0441\\u043a\\u0430\\u044f \\u043d\\u0430\\u0443\\u043a\\u0430\",\n      \"properties\": {\n        \"dtype\": \"number\",\n        \"std\": 94.96498215723769,\n        \"min\": 0.0,\n        \"max\": 269.0,\n        \"num_unique_values\": 5,\n        \"samples\": [\n          0.3345724907063197,\n          1.0\n        ],\n        \"semantic_type\": \"\",\n        \"description\": \"\"\n      }\n    }\n  ]\n}"
            }
          },
          "metadata": {},
          "execution_count": 26
        }
      ]
    },
    {
      "cell_type": "markdown",
      "source": [
        "Итог - по всем меркам цена и другим показатели для репетиторов по предметам ЕГЭ выше - так что точно имеет смысл добавлять этот признак"
      ],
      "metadata": {
        "id": "pH-hKWiAhNmx"
      }
    },
    {
      "cell_type": "markdown",
      "source": [
        "2. Теперь поработаем с делением предметов на гуманитарные, естественные и технические - будет ли тип предмета влиять на цену и есть ли еще инетресные закономерности, связанные с этим делением"
      ],
      "metadata": {
        "id": "YzEYtRtLiX4o"
      }
    },
    {
      "cell_type": "code",
      "source": [
        "df_raw[df_raw['Техническая наука'] == 1]['Цена'].mean()"
      ],
      "metadata": {
        "colab": {
          "base_uri": "https://localhost:8080/"
        },
        "id": "dXjnS19TyGiC",
        "outputId": "93b91d5a-6502-4923-f35e-8ca97267a1d0"
      },
      "execution_count": 57,
      "outputs": [
        {
          "output_type": "execute_result",
          "data": {
            "text/plain": [
              "2338.252880658436"
            ]
          },
          "metadata": {},
          "execution_count": 57
        }
      ]
    },
    {
      "cell_type": "code",
      "source": [
        "df_raw[df_raw['Гуманитарная наука'] == 1]['Цена'].mean()"
      ],
      "metadata": {
        "colab": {
          "base_uri": "https://localhost:8080/"
        },
        "id": "Co2UWqGAzvEx",
        "outputId": "0c25d6ac-1a96-40a1-ac6b-525c07c38ea5"
      },
      "execution_count": 58,
      "outputs": [
        {
          "output_type": "execute_result",
          "data": {
            "text/plain": [
              "2105.1382320941552"
            ]
          },
          "metadata": {},
          "execution_count": 58
        }
      ]
    },
    {
      "cell_type": "code",
      "source": [
        "df_raw[df_raw['Естественная наука'] == 1]['Цена'].mean()"
      ],
      "metadata": {
        "colab": {
          "base_uri": "https://localhost:8080/"
        },
        "id": "09eF3LXKzxhA",
        "outputId": "5b0cbfc5-b6d3-437d-b45d-45b2b2684bca"
      },
      "execution_count": 59,
      "outputs": [
        {
          "output_type": "execute_result",
          "data": {
            "text/plain": [
              "2053.993612894596"
            ]
          },
          "metadata": {},
          "execution_count": 59
        }
      ]
    },
    {
      "cell_type": "code",
      "source": [
        "df_raw[(df_raw['Естественная наука'] != 1) & (df_raw['Гуманитарная наука'] != 1) & (df_raw['Естественная наука'] != 1)]['Цена'].mean()"
      ],
      "metadata": {
        "colab": {
          "base_uri": "https://localhost:8080/"
        },
        "id": "k399LHH21uB4",
        "outputId": "f8345966-49e6-4bee-85a7-b617ef9dab77"
      },
      "execution_count": 70,
      "outputs": [
        {
          "output_type": "execute_result",
          "data": {
            "text/plain": [
              "1946.7878426943016"
            ]
          },
          "metadata": {},
          "execution_count": 70
        }
      ]
    },
    {
      "cell_type": "code",
      "source": [
        "df_sub_split = pd.DataFrame({'Предмет': ['Техническая наука', 'Гуманитарная наука', 'Естественная наука', 'Прочие'], 'Средняя цена': [2338.3, 2105.1, 2054.0, 1946.8]})\n",
        "df_sub_split"
      ],
      "metadata": {
        "colab": {
          "base_uri": "https://localhost:8080/",
          "height": 173
        },
        "id": "nHc5kjrMz4ES",
        "outputId": "ac8f4002-0f11-476e-f999-1600bf56147a"
      },
      "execution_count": 71,
      "outputs": [
        {
          "output_type": "execute_result",
          "data": {
            "text/plain": [
              "              Предмет  Средняя цена\n",
              "0   Техническая наука        2338.3\n",
              "1  Гуманитарная наука        2105.1\n",
              "2  Естественная наука        2054.0\n",
              "3              Прочие        1946.8"
            ],
            "text/html": [
              "\n",
              "  <div id=\"df-dffa20b8-5ee5-4fbd-87a2-96cecb4925ee\" class=\"colab-df-container\">\n",
              "    <div>\n",
              "<style scoped>\n",
              "    .dataframe tbody tr th:only-of-type {\n",
              "        vertical-align: middle;\n",
              "    }\n",
              "\n",
              "    .dataframe tbody tr th {\n",
              "        vertical-align: top;\n",
              "    }\n",
              "\n",
              "    .dataframe thead th {\n",
              "        text-align: right;\n",
              "    }\n",
              "</style>\n",
              "<table border=\"1\" class=\"dataframe\">\n",
              "  <thead>\n",
              "    <tr style=\"text-align: right;\">\n",
              "      <th></th>\n",
              "      <th>Предмет</th>\n",
              "      <th>Средняя цена</th>\n",
              "    </tr>\n",
              "  </thead>\n",
              "  <tbody>\n",
              "    <tr>\n",
              "      <th>0</th>\n",
              "      <td>Техническая наука</td>\n",
              "      <td>2338.3</td>\n",
              "    </tr>\n",
              "    <tr>\n",
              "      <th>1</th>\n",
              "      <td>Гуманитарная наука</td>\n",
              "      <td>2105.1</td>\n",
              "    </tr>\n",
              "    <tr>\n",
              "      <th>2</th>\n",
              "      <td>Естественная наука</td>\n",
              "      <td>2054.0</td>\n",
              "    </tr>\n",
              "    <tr>\n",
              "      <th>3</th>\n",
              "      <td>Прочие</td>\n",
              "      <td>1946.8</td>\n",
              "    </tr>\n",
              "  </tbody>\n",
              "</table>\n",
              "</div>\n",
              "    <div class=\"colab-df-buttons\">\n",
              "\n",
              "  <div class=\"colab-df-container\">\n",
              "    <button class=\"colab-df-convert\" onclick=\"convertToInteractive('df-dffa20b8-5ee5-4fbd-87a2-96cecb4925ee')\"\n",
              "            title=\"Convert this dataframe to an interactive table.\"\n",
              "            style=\"display:none;\">\n",
              "\n",
              "  <svg xmlns=\"http://www.w3.org/2000/svg\" height=\"24px\" viewBox=\"0 -960 960 960\">\n",
              "    <path d=\"M120-120v-720h720v720H120Zm60-500h600v-160H180v160Zm220 220h160v-160H400v160Zm0 220h160v-160H400v160ZM180-400h160v-160H180v160Zm440 0h160v-160H620v160ZM180-180h160v-160H180v160Zm440 0h160v-160H620v160Z\"/>\n",
              "  </svg>\n",
              "    </button>\n",
              "\n",
              "  <style>\n",
              "    .colab-df-container {\n",
              "      display:flex;\n",
              "      gap: 12px;\n",
              "    }\n",
              "\n",
              "    .colab-df-convert {\n",
              "      background-color: #E8F0FE;\n",
              "      border: none;\n",
              "      border-radius: 50%;\n",
              "      cursor: pointer;\n",
              "      display: none;\n",
              "      fill: #1967D2;\n",
              "      height: 32px;\n",
              "      padding: 0 0 0 0;\n",
              "      width: 32px;\n",
              "    }\n",
              "\n",
              "    .colab-df-convert:hover {\n",
              "      background-color: #E2EBFA;\n",
              "      box-shadow: 0px 1px 2px rgba(60, 64, 67, 0.3), 0px 1px 3px 1px rgba(60, 64, 67, 0.15);\n",
              "      fill: #174EA6;\n",
              "    }\n",
              "\n",
              "    .colab-df-buttons div {\n",
              "      margin-bottom: 4px;\n",
              "    }\n",
              "\n",
              "    [theme=dark] .colab-df-convert {\n",
              "      background-color: #3B4455;\n",
              "      fill: #D2E3FC;\n",
              "    }\n",
              "\n",
              "    [theme=dark] .colab-df-convert:hover {\n",
              "      background-color: #434B5C;\n",
              "      box-shadow: 0px 1px 3px 1px rgba(0, 0, 0, 0.15);\n",
              "      filter: drop-shadow(0px 1px 2px rgba(0, 0, 0, 0.3));\n",
              "      fill: #FFFFFF;\n",
              "    }\n",
              "  </style>\n",
              "\n",
              "    <script>\n",
              "      const buttonEl =\n",
              "        document.querySelector('#df-dffa20b8-5ee5-4fbd-87a2-96cecb4925ee button.colab-df-convert');\n",
              "      buttonEl.style.display =\n",
              "        google.colab.kernel.accessAllowed ? 'block' : 'none';\n",
              "\n",
              "      async function convertToInteractive(key) {\n",
              "        const element = document.querySelector('#df-dffa20b8-5ee5-4fbd-87a2-96cecb4925ee');\n",
              "        const dataTable =\n",
              "          await google.colab.kernel.invokeFunction('convertToInteractive',\n",
              "                                                    [key], {});\n",
              "        if (!dataTable) return;\n",
              "\n",
              "        const docLinkHtml = 'Like what you see? Visit the ' +\n",
              "          '<a target=\"_blank\" href=https://colab.research.google.com/notebooks/data_table.ipynb>data table notebook</a>'\n",
              "          + ' to learn more about interactive tables.';\n",
              "        element.innerHTML = '';\n",
              "        dataTable['output_type'] = 'display_data';\n",
              "        await google.colab.output.renderOutput(dataTable, element);\n",
              "        const docLink = document.createElement('div');\n",
              "        docLink.innerHTML = docLinkHtml;\n",
              "        element.appendChild(docLink);\n",
              "      }\n",
              "    </script>\n",
              "  </div>\n",
              "\n",
              "\n",
              "<div id=\"df-a8b3d581-11b0-44c8-b2a7-cb8334dabe2d\">\n",
              "  <button class=\"colab-df-quickchart\" onclick=\"quickchart('df-a8b3d581-11b0-44c8-b2a7-cb8334dabe2d')\"\n",
              "            title=\"Suggest charts\"\n",
              "            style=\"display:none;\">\n",
              "\n",
              "<svg xmlns=\"http://www.w3.org/2000/svg\" height=\"24px\"viewBox=\"0 0 24 24\"\n",
              "     width=\"24px\">\n",
              "    <g>\n",
              "        <path d=\"M19 3H5c-1.1 0-2 .9-2 2v14c0 1.1.9 2 2 2h14c1.1 0 2-.9 2-2V5c0-1.1-.9-2-2-2zM9 17H7v-7h2v7zm4 0h-2V7h2v10zm4 0h-2v-4h2v4z\"/>\n",
              "    </g>\n",
              "</svg>\n",
              "  </button>\n",
              "\n",
              "<style>\n",
              "  .colab-df-quickchart {\n",
              "      --bg-color: #E8F0FE;\n",
              "      --fill-color: #1967D2;\n",
              "      --hover-bg-color: #E2EBFA;\n",
              "      --hover-fill-color: #174EA6;\n",
              "      --disabled-fill-color: #AAA;\n",
              "      --disabled-bg-color: #DDD;\n",
              "  }\n",
              "\n",
              "  [theme=dark] .colab-df-quickchart {\n",
              "      --bg-color: #3B4455;\n",
              "      --fill-color: #D2E3FC;\n",
              "      --hover-bg-color: #434B5C;\n",
              "      --hover-fill-color: #FFFFFF;\n",
              "      --disabled-bg-color: #3B4455;\n",
              "      --disabled-fill-color: #666;\n",
              "  }\n",
              "\n",
              "  .colab-df-quickchart {\n",
              "    background-color: var(--bg-color);\n",
              "    border: none;\n",
              "    border-radius: 50%;\n",
              "    cursor: pointer;\n",
              "    display: none;\n",
              "    fill: var(--fill-color);\n",
              "    height: 32px;\n",
              "    padding: 0;\n",
              "    width: 32px;\n",
              "  }\n",
              "\n",
              "  .colab-df-quickchart:hover {\n",
              "    background-color: var(--hover-bg-color);\n",
              "    box-shadow: 0 1px 2px rgba(60, 64, 67, 0.3), 0 1px 3px 1px rgba(60, 64, 67, 0.15);\n",
              "    fill: var(--button-hover-fill-color);\n",
              "  }\n",
              "\n",
              "  .colab-df-quickchart-complete:disabled,\n",
              "  .colab-df-quickchart-complete:disabled:hover {\n",
              "    background-color: var(--disabled-bg-color);\n",
              "    fill: var(--disabled-fill-color);\n",
              "    box-shadow: none;\n",
              "  }\n",
              "\n",
              "  .colab-df-spinner {\n",
              "    border: 2px solid var(--fill-color);\n",
              "    border-color: transparent;\n",
              "    border-bottom-color: var(--fill-color);\n",
              "    animation:\n",
              "      spin 1s steps(1) infinite;\n",
              "  }\n",
              "\n",
              "  @keyframes spin {\n",
              "    0% {\n",
              "      border-color: transparent;\n",
              "      border-bottom-color: var(--fill-color);\n",
              "      border-left-color: var(--fill-color);\n",
              "    }\n",
              "    20% {\n",
              "      border-color: transparent;\n",
              "      border-left-color: var(--fill-color);\n",
              "      border-top-color: var(--fill-color);\n",
              "    }\n",
              "    30% {\n",
              "      border-color: transparent;\n",
              "      border-left-color: var(--fill-color);\n",
              "      border-top-color: var(--fill-color);\n",
              "      border-right-color: var(--fill-color);\n",
              "    }\n",
              "    40% {\n",
              "      border-color: transparent;\n",
              "      border-right-color: var(--fill-color);\n",
              "      border-top-color: var(--fill-color);\n",
              "    }\n",
              "    60% {\n",
              "      border-color: transparent;\n",
              "      border-right-color: var(--fill-color);\n",
              "    }\n",
              "    80% {\n",
              "      border-color: transparent;\n",
              "      border-right-color: var(--fill-color);\n",
              "      border-bottom-color: var(--fill-color);\n",
              "    }\n",
              "    90% {\n",
              "      border-color: transparent;\n",
              "      border-bottom-color: var(--fill-color);\n",
              "    }\n",
              "  }\n",
              "</style>\n",
              "\n",
              "  <script>\n",
              "    async function quickchart(key) {\n",
              "      const quickchartButtonEl =\n",
              "        document.querySelector('#' + key + ' button');\n",
              "      quickchartButtonEl.disabled = true;  // To prevent multiple clicks.\n",
              "      quickchartButtonEl.classList.add('colab-df-spinner');\n",
              "      try {\n",
              "        const charts = await google.colab.kernel.invokeFunction(\n",
              "            'suggestCharts', [key], {});\n",
              "      } catch (error) {\n",
              "        console.error('Error during call to suggestCharts:', error);\n",
              "      }\n",
              "      quickchartButtonEl.classList.remove('colab-df-spinner');\n",
              "      quickchartButtonEl.classList.add('colab-df-quickchart-complete');\n",
              "    }\n",
              "    (() => {\n",
              "      let quickchartButtonEl =\n",
              "        document.querySelector('#df-a8b3d581-11b0-44c8-b2a7-cb8334dabe2d button');\n",
              "      quickchartButtonEl.style.display =\n",
              "        google.colab.kernel.accessAllowed ? 'block' : 'none';\n",
              "    })();\n",
              "  </script>\n",
              "</div>\n",
              "    </div>\n",
              "  </div>\n"
            ],
            "application/vnd.google.colaboratory.intrinsic+json": {
              "type": "dataframe",
              "variable_name": "df_sub_split",
              "summary": "{\n  \"name\": \"df_sub_split\",\n  \"rows\": 4,\n  \"fields\": [\n    {\n      \"column\": \"\\u041f\\u0440\\u0435\\u0434\\u043c\\u0435\\u0442\",\n      \"properties\": {\n        \"dtype\": \"string\",\n        \"num_unique_values\": 4,\n        \"samples\": [\n          \"\\u0413\\u0443\\u043c\\u0430\\u043d\\u0438\\u0442\\u0430\\u0440\\u043d\\u0430\\u044f \\u043d\\u0430\\u0443\\u043a\\u0430\",\n          \"\\u041f\\u0440\\u043e\\u0447\\u0438\\u0435\",\n          \"\\u0422\\u0435\\u0445\\u043d\\u0438\\u0447\\u0435\\u0441\\u043a\\u0430\\u044f \\u043d\\u0430\\u0443\\u043a\\u0430\"\n        ],\n        \"semantic_type\": \"\",\n        \"description\": \"\"\n      }\n    },\n    {\n      \"column\": \"\\u0421\\u0440\\u0435\\u0434\\u043d\\u044f\\u044f \\u0446\\u0435\\u043d\\u0430\",\n      \"properties\": {\n        \"dtype\": \"number\",\n        \"std\": 165.2379395498101,\n        \"min\": 1946.8,\n        \"max\": 2338.3,\n        \"num_unique_values\": 4,\n        \"samples\": [\n          2105.1,\n          1946.8,\n          2338.3\n        ],\n        \"semantic_type\": \"\",\n        \"description\": \"\"\n      }\n    }\n  ]\n}"
            }
          },
          "metadata": {},
          "execution_count": 71
        }
      ]
    },
    {
      "cell_type": "code",
      "source": [
        "plt.bar(df_sub_split['Предмет'], df_sub_split['Средняя цена'])\n",
        "plt.ylabel('Средняя Цена')\n",
        "plt.title('Средняя Цена по Группам')\n",
        "plt.show()"
      ],
      "metadata": {
        "colab": {
          "base_uri": "https://localhost:8080/",
          "height": 452
        },
        "id": "vgnYlUhV0Q2P",
        "outputId": "11a7f22a-8ceb-4983-8ba0-fa13592ef077"
      },
      "execution_count": 72,
      "outputs": [
        {
          "output_type": "display_data",
          "data": {
            "text/plain": [
              "<Figure size 640x480 with 1 Axes>"
            ],
            "image/png": "[encoded data removed]"
          },
          "metadata": {}
        }
      ]
    },
    {
      "cell_type": "markdown",
      "source": [
        "Все 4 столбца имеют разные средние цены, поэотму целесообразно выделить три из них и добавить соотвествубщие признаки."
      ],
      "metadata": {
        "id": "3zLVOEEX2n9N"
      }
    },
    {
      "cell_type": "markdown",
      "source": [
        "3. Рассмотрим, что нам дает информация о том, является ли предмет языком или нет."
      ],
      "metadata": {
        "id": "efkndgxfppYH"
      }
    },
    {
      "cell_type": "code",
      "source": [
        "plt.figure(figsize=(13,5))\n",
        "sns.boxplot(x='Языковой предмет',y='Цена',data = df_raw)\n",
        "plt.title('Ящик с усами для цены в зависимости от того, является ли предмет языком или нет')"
      ],
      "metadata": {
        "colab": {
          "base_uri": "https://localhost:8080/",
          "height": 504
        },
        "id": "dJlFkYpIqOlE",
        "outputId": "1d3b35e8-9014-42fd-b808-6368f20d1a7d"
      },
      "execution_count": 77,
      "outputs": [
        {
          "output_type": "execute_result",
          "data": {
            "text/plain": [
              "Text(0.5, 1.0, 'Ящик с усами для цены в зависимости от того, является ли предмет языком или нет')"
            ]
          },
          "metadata": {},
          "execution_count": 77
        },
        {
          "output_type": "display_data",
          "data": {
            "text/plain": [
              "<Figure size 1300x500 with 1 Axes>"
            ],
            "image/png": "[encoded data removed]"
          },
          "metadata": {}
        }
      ]
    },
    {
      "cell_type": "markdown",
      "source": [
        "Особо ничего не показывает, значения показателей для предметов-языков и не-языков примерно совпадают. Можно удалять признак за ненадобностью."
      ],
      "metadata": {
        "id": "vuBeNlHW-uoa"
      }
    },
    {
      "cell_type": "code",
      "source": [
        "df_raw.drop('Языковой предмет', axis=1, inplace=True)"
      ],
      "metadata": {
        "colab": {
          "base_uri": "https://localhost:8080/"
        },
        "id": "qvPniI6oAJcg",
        "outputId": "53caeb52-26b4-4b00-aa1c-b5bc751d7aae"
      },
      "execution_count": 81,
      "outputs": [
        {
          "output_type": "stream",
          "name": "stderr",
          "text": [
            "<ipython-input-81-f422bfe19dd3>:1: SettingWithCopyWarning: \n",
            "A value is trying to be set on a copy of a slice from a DataFrame\n",
            "\n",
            "See the caveats in the documentation: https://pandas.pydata.org/pandas-docs/stable/user_guide/indexing.html#returning-a-view-versus-a-copy\n",
            "  df_raw.drop('Языковой предмет', axis=1, inplace=True)\n"
          ]
        }
      ]
    },
    {
      "cell_type": "markdown",
      "source": [],
      "metadata": {
        "id": "Z2IH0i7A_NEn"
      }
    },
    {
      "cell_type": "markdown",
      "source": [
        "Еще в первичных данных у нас есть сведения об оценке (рейтинге преподавателя) - посмотрим, что могут принести они."
      ],
      "metadata": {
        "id": "GPpN52sApLoj"
      }
    },
    {
      "cell_type": "code",
      "source": [
        "df_raw.plot.scatter(x = 'Оценка', y = 'Цена')"
      ],
      "metadata": {
        "colab": {
          "base_uri": "https://localhost:8080/",
          "height": 466
        },
        "id": "b_o5kYVucXCv",
        "outputId": "5983aa9f-febf-466d-9a5c-67d1113c084b"
      },
      "execution_count": 30,
      "outputs": [
        {
          "output_type": "execute_result",
          "data": {
            "text/plain": [
              "<Axes: xlabel='Оценка', ylabel='Цена'>"
            ]
          },
          "metadata": {},
          "execution_count": 30
        },
        {
          "output_type": "display_data",
          "data": {
            "text/plain": [
              "<Figure size 640x480 with 1 Axes>"
            ],
            "image/png": "[encoded data removed]"
          },
          "metadata": {}
        }
      ]
    },
    {
      "cell_type": "markdown",
      "source": [
        "Давайте посмотрим на график без этого выброса с оценкой = 1"
      ],
      "metadata": {
        "id": "7H7D_-lUme22"
      }
    },
    {
      "cell_type": "code",
      "source": [
        "df_raw_filter = df_raw[df_raw['Оценка'] != 1]\n",
        "df_raw_filter"
      ],
      "metadata": {
        "id": "B69Ydt4_mmc4"
      },
      "execution_count": null,
      "outputs": []
    },
    {
      "cell_type": "code",
      "source": [
        "df_raw_filter.plot.scatter(x = 'Оценка', y = 'Цена')"
      ],
      "metadata": {
        "colab": {
          "base_uri": "https://localhost:8080/",
          "height": 466
        },
        "id": "gPid2YaVcXHQ",
        "outputId": "b67fd4f3-83eb-4381-a219-fc6cdde45e1f"
      },
      "execution_count": 33,
      "outputs": [
        {
          "output_type": "execute_result",
          "data": {
            "text/plain": [
              "<Axes: xlabel='Оценка', ylabel='Цена'>"
            ]
          },
          "metadata": {},
          "execution_count": 33
        },
        {
          "output_type": "display_data",
          "data": {
            "text/plain": [
              "<Figure size 640x480 with 1 Axes>"
            ],
            "image/png": "[encoded data removed]"
          },
          "metadata": {}
        }
      ]
    },
    {
      "cell_type": "code",
      "source": [
        "df_raw_filter[df_raw_filter['Оценка'] <= 4.7]['Цена'].mean()"
      ],
      "metadata": {
        "colab": {
          "base_uri": "https://localhost:8080/"
        },
        "id": "ozNJI5uBnxJb",
        "outputId": "1ea6b3ac-b5b3-423f-d631-d2d22b338f89"
      },
      "execution_count": 43,
      "outputs": [
        {
          "output_type": "execute_result",
          "data": {
            "text/plain": [
              "2298.3630952380954"
            ]
          },
          "metadata": {},
          "execution_count": 43
        }
      ]
    },
    {
      "cell_type": "code",
      "source": [
        "df_raw_filter[df_raw_filter['Оценка'] > 4.7]['Цена'].mean()"
      ],
      "metadata": {
        "colab": {
          "base_uri": "https://localhost:8080/"
        },
        "id": "4O1K9JhLoJwv",
        "outputId": "c247c222-e9e8-44fe-c870-d82e77b2d3aa"
      },
      "execution_count": 44,
      "outputs": [
        {
          "output_type": "execute_result",
          "data": {
            "text/plain": [
              "2023.8648860845437"
            ]
          },
          "metadata": {},
          "execution_count": 44
        }
      ]
    },
    {
      "cell_type": "markdown",
      "source": [
        "Интересно, что у репетиторов, у которых меньше оценка (рейтинг), цена выше. Объяснений почему так можно придумать несколько, но в приницпе было не очевидно."
      ],
      "metadata": {
        "id": "6_Vrexd_o1kz"
      }
    },
    {
      "cell_type": "markdown",
      "source": [
        "И последнее с чем мы поработаем - с данными о стаже. Выберем 15% преподавателей с самым большим стажем и посмотрим на распределения для них"
      ],
      "metadata": {
        "id": "ruvAhmu662JS"
      }
    },
    {
      "cell_type": "code",
      "source": [
        "# ищем 0,85 квантиль стажа и добавляем признак, показывающий, что стаж препода больше этого значения\n",
        "df_raw = df_raw[(df_raw['Стаж'] != 'Студент') & (df_raw['Стаж'] != 'Частный')]\n",
        "df_raw['Стаж'] = df_raw['Стаж'].astype(float)\n",
        "biggest_experience = df_raw['Стаж'].quantile(0.85)\n",
        "df_raw['Большой стаж'] = (df_raw['Стаж'].astype(float) > biggest_experience).astype(int)"
      ],
      "metadata": {
        "colab": {
          "base_uri": "https://localhost:8080/"
        },
        "collapsed": true,
        "id": "JUUccEtLqZB0",
        "outputId": "084029d1-5d21-4e1d-d120-d4ad9c9ae2c1"
      },
      "execution_count": 74,
      "outputs": [
        {
          "output_type": "stream",
          "name": "stderr",
          "text": [
            "<ipython-input-74-e7ee14de9e0b>:3: SettingWithCopyWarning: \n",
            "A value is trying to be set on a copy of a slice from a DataFrame.\n",
            "Try using .loc[row_indexer,col_indexer] = value instead\n",
            "\n",
            "See the caveats in the documentation: https://pandas.pydata.org/pandas-docs/stable/user_guide/indexing.html#returning-a-view-versus-a-copy\n",
            "  df_raw['Стаж'] = df_raw['Стаж'].astype(float)\n",
            "<ipython-input-74-e7ee14de9e0b>:5: SettingWithCopyWarning: \n",
            "A value is trying to be set on a copy of a slice from a DataFrame.\n",
            "Try using .loc[row_indexer,col_indexer] = value instead\n",
            "\n",
            "See the caveats in the documentation: https://pandas.pydata.org/pandas-docs/stable/user_guide/indexing.html#returning-a-view-versus-a-copy\n",
            "  df_raw['Большой стаж'] = (df_raw['Стаж'].astype(float) > biggest_experience).astype(int)\n"
          ]
        }
      ]
    },
    {
      "cell_type": "code",
      "source": [
        "sns.violinplot(x='Большой стаж', y='Цена', data=df_raw)\n",
        "plt.xlabel('Большой ли стаж у преподавателя?')\n",
        "plt.ylabel('Цена')\n",
        "plt.title('Violin plot для двух типов')\n",
        "plt.show()"
      ],
      "metadata": {
        "colab": {
          "base_uri": "https://localhost:8080/",
          "height": 472
        },
        "id": "MXy0Lq5EqZG8",
        "outputId": "cc437fd3-c1cb-45c3-8aa8-9925f1fe22f6"
      },
      "execution_count": 76,
      "outputs": [
        {
          "output_type": "display_data",
          "data": {
            "text/plain": [
              "<Figure size 640x480 with 1 Axes>"
            ],
            "image/png": "[encoded data removed]"
          },
          "metadata": {}
        }
      ]
    },
    {
      "cell_type": "markdown",
      "source": [
        "Интересно, что преподаватели с большим стажем не особо поднимают цену - первый и третий квантиль, медиана, минимум, самые \"частые\" цены - примерно одинаковые. А еще интересно, что именно преподаватели с не таким большим опытом работают за самый большой ценник (возможно, более возрастные и опытные учителя просто имеют психологический барьер на устоновление высокой цены, но это просто догадка, которую не проверить тут)."
      ],
      "metadata": {
        "id": "V9bEjvkY8Kz5"
      }
    },
    {
      "cell_type": "markdown",
      "source": [
        "На этом добавление признаков и обработка закончена, переходим к гипотезам."
      ],
      "metadata": {
        "id": "DTQy1N3NAfjb"
      }
    }
  ]
}